{
 "cells": [
  {
   "cell_type": "code",
   "execution_count": 1,
   "metadata": {
    "collapsed": true
   },
   "outputs": [],
   "source": [
    "import pandas as pd\n",
    "import numpy as np"
   ]
  },
  {
   "cell_type": "markdown",
   "metadata": {},
   "source": [
    "- get rid of NaNs\n",
    "- get rid of all underscores and dashes -- escape character unnecessary\n",
    "- get rid of rows with blank strings"
   ]
  },
  {
   "cell_type": "code",
   "execution_count": 30,
   "metadata": {
    "collapsed": false
   },
   "outputs": [],
   "source": [
    "dataset = '/Users/Rutherford/Desktop/data/current 10:27 but not cleaned/dataset.csv'\n",
    "\n",
    "df = pd.read_csv(dataset,header=None,names=['error','one','two'],\n",
    "                 dtype={'error':np.int32,'one':str,'two':str},na_filter=False)\n",
    "\n",
    "df = df.replace(r'_+','',regex=True)\n",
    "df = df.replace(r'-',' ',regex=True)\n",
    "df = df.replace(r\"'cause\",'because',regex=True)\n",
    "# haven't done this yet\n",
    "### df = df.replace(r\"'bout\",'about',regex=True)\n",
    "### df = df.replace(r\"'til\",'until',regex=True) or til\n",
    "df = df.replace(r\"\\ba\\b\",'one',regex=True)\n",
    "\n",
    "df = df.iloc[np.where(df['two'] != '')[0]]\n",
    "df = df.iloc[np.where(df['one'] != '')[0]]"
   ]
  },
  {
   "cell_type": "code",
   "execution_count": 26,
   "metadata": {
    "collapsed": false
   },
   "outputs": [],
   "source": [
    "#df[10002:12000]"
   ]
  },
  {
   "cell_type": "code",
   "execution_count": 27,
   "metadata": {
    "collapsed": false
   },
   "outputs": [],
   "source": [
    "#df.head(10)"
   ]
  },
  {
   "cell_type": "markdown",
   "metadata": {},
   "source": [
    "- df['one'] shorter than 4\n",
    "- not using this yet"
   ]
  },
  {
   "cell_type": "code",
   "execution_count": 31,
   "metadata": {
    "collapsed": false
   },
   "outputs": [
    {
     "data": {
      "text/plain": [
       "8473"
      ]
     },
     "execution_count": 31,
     "metadata": {},
     "output_type": "execute_result"
    }
   ],
   "source": [
    "sum([length<4 for length in map(len,df['one'])])"
   ]
  },
  {
   "cell_type": "code",
   "execution_count": null,
   "metadata": {
    "collapsed": true
   },
   "outputs": [],
   "source": []
  },
  {
   "cell_type": "markdown",
   "metadata": {},
   "source": [
    "- write out"
   ]
  },
  {
   "cell_type": "code",
   "execution_count": 32,
   "metadata": {
    "collapsed": true
   },
   "outputs": [],
   "source": [
    "df.to_csv('/Users/Rutherford/Desktop/cleaning_dataset.csv',header=None,index=None)"
   ]
  },
  {
   "cell_type": "code",
   "execution_count": null,
   "metadata": {
    "collapsed": true
   },
   "outputs": [],
   "source": []
  },
  {
   "cell_type": "code",
   "execution_count": null,
   "metadata": {
    "collapsed": true
   },
   "outputs": [],
   "source": []
  }
 ],
 "metadata": {
  "kernelspec": {
   "display_name": "Python 2",
   "language": "python",
   "name": "python2"
  },
  "language_info": {
   "codemirror_mode": {
    "name": "ipython",
    "version": 2
   },
   "file_extension": ".py",
   "mimetype": "text/x-python",
   "name": "python",
   "nbconvert_exporter": "python",
   "pygments_lexer": "ipython2",
   "version": "2.7.12"
  }
 },
 "nbformat": 4,
 "nbformat_minor": 1
}
