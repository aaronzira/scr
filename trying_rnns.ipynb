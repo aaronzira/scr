{
 "cells": [
  {
   "cell_type": "code",
   "execution_count": 1,
   "metadata": {
    "collapsed": true
   },
   "outputs": [],
   "source": [
    "import tensorflow as tf\n",
    "import numpy as np\n",
    "import os\n",
    "import re\n",
    "from fuzzywuzzy import fuzz\n",
    "from sklearn.metrics.pairwise import cosine_similarity, euclidean_distances\n",
    "from sklearn.feature_extraction.text import CountVectorizer\n",
    "from scipy.spatial.distance import cosine\n",
    "from pyemd import emd\n",
    "from time import time\n",
    "import matplotlib.pyplot as plt\n",
    "%matplotlib inline"
   ]
  },
  {
   "cell_type": "code",
   "execution_count": 2,
   "metadata": {
    "collapsed": true
   },
   "outputs": [],
   "source": [
    "data_path = \"/Users/Rutherford/Desktop/data\"\n",
    "epsilon = 1e-4\n",
    "\n",
    "binary_file = os.path.join(data_path,\n",
    "                           'GoogleNews-vectors-negative300.bin')\n",
    "w2v_dat = os.path.join(data_path,'embed.dat')\n",
    "w2v_vocab = os.path.join(data_path,'embed.vocab')\n",
    "\n",
    "# create word embeddings and mapping of vocabulary item to index\n",
    "embeddings = np.memmap(w2v_dat, dtype=np.float64,\n",
    "                            mode=\"r\", shape=(3000000, 300))\n",
    "with open(w2v_vocab) as f:\n",
    "    vocab_list = map(lambda string: string.strip(), f.readlines())\n",
    "vocab_dict = {w: i for i, w in enumerate(vocab_list)}\n",
    "\n",
    "# mean of 20 rarest words, used as a stand-in for pairwise distances\n",
    "# if a word is out-of-vocabulary\n",
    "avg_rare_word = np.mean(np.vstack(embeddings[-20:]),axis=0)\n",
    "bad_row = np.asarray([avg_rare_word])\n"
   ]
  },
  {
   "cell_type": "code",
   "execution_count": 3,
   "metadata": {
    "collapsed": true
   },
   "outputs": [],
   "source": [
    "#training_set = '/Users/Rutherford/Desktop/data/dataset.csv'"
   ]
  },
  {
   "cell_type": "code",
   "execution_count": 6,
   "metadata": {
    "collapsed": true
   },
   "outputs": [],
   "source": [
    "def _get_dist(s_1,s_2):\n",
    "    \"\"\"Return counts of in-vocabulary and out-of-vocabulary items per\n",
    "    string, means of embeddings per string, and Word Mover's Distance\n",
    "    between the two. Word embeddings and mappings were created upon\n",
    "    initialization of the class instance, and WMD with emd()\n",
    "    (Earth Mover's Distance) from PyEMD. Final shape is [1,612].\n",
    "    \"\"\"\n",
    "\n",
    "    results_ = []\n",
    "\n",
    "    ###############\n",
    "    #s_1 = re.sub(r\"\\bs\\d{0,2}\\b\",'speaker',s_1)\n",
    "    #s_1 = re.sub(r\"\\b\\d{5,6}\\b\",'timestamp',s_1)\n",
    "    #s_1 = re.sub(r'\\d+','digit',s_1)\n",
    "    s_1 = re.sub(r'-',' ',s_1)\n",
    "    s_1 = re.sub(r\"\\ba\\b\",'one',s_1)\n",
    "\n",
    "    #s_2 = re.sub(r\"\\bs\\d{0,2}\\b\",'speaker',s_2)\n",
    "    #s_2 = re.sub(r\"\\b\\d{5,6}\\b\",'timestamp',s_2)\n",
    "    #s_2 = re.sub(r'\\d+','digit',s_2)\n",
    "    s_2 = re.sub(r'-',' ',s_2)\n",
    "    s_2 = re.sub(r\"\\ba\\b\",'one',s_2)\n",
    "\n",
    "\n",
    "    # from FuzzyWuzzy: ratio, partial, sort, set\n",
    "    fw_ratio = fuzz.ratio(s_1,s_2)\n",
    "    fw_partial = fuzz.partial_ratio(s_1,s_2)\n",
    "    fw_sort = fuzz.token_sort_ratio(s_1,s_2)\n",
    "    fw_set = fuzz.token_set_ratio(s_1,s_2)\n",
    "\n",
    "    # string lengths for each pair\n",
    "    str1_len = len(s_1)\n",
    "    str2_len = len(s_2)\n",
    "\n",
    "    # combine string metrics together and get scores from _get_dist()\n",
    "    string_metrics = [fw_ratio,fw_partial,fw_sort,fw_set,str1_len,str2_len]\n",
    "    results_.extend(string_metrics)\n",
    "\n",
    "    # moved this up here from mean of word embeddings section\n",
    "    s1_features = s_1.split()\n",
    "    s2_features = s_2.split()\n",
    "\n",
    "    # sum of indices; proxy for word rarity\n",
    "    ###results_.append(self._index_check(s1_features))\n",
    "    ###results_.append(self._index_check(s2_features))        \n",
    "\n",
    "\n",
    "    # number of out-of-vocabulary and in-vocabulary items\n",
    "    #s_1_bad = sum(map(lambda word:word not in self.vocab_dict,s1_features))\n",
    "    #s_1_good = sum(map(lambda word:word in self.vocab_dict,s1_features))\n",
    "    #s_2_bad = sum(map(lambda word:word not in self.vocab_dict,s2_features))\n",
    "    #s_2_good = sum(map(lambda word:word in self.vocab_dict,s2_features))\n",
    "    ###results_.append(s_1_bad)\n",
    "    ###results_.append(s_1_good)\n",
    "    ###results_.append(s_2_bad)\n",
    "    ###results_.append(s_2_good)\n",
    "\n",
    "    # mean of word embeddings per string (0s if no items are in embeddings)\n",
    "    # shape is [1,300] per string\n",
    "    S1_ = embeddings[[vocab_dict[w] for w in s1_features if w in vocab_dict]]\n",
    "    S2_ = embeddings[[vocab_dict[w] for w in s2_features if w in vocab_dict]]\n",
    "    if S1_.shape[0]==0:\n",
    "        S1_ = np.zeros((1,300))+epsilon\n",
    "    if S2_.shape[0]==0:\n",
    "        S2_ = np.zeros((1,300))+epsilon\n",
    "    ##S1_ = np.asarray(np.mean(S1_,axis=0)).reshape([-1,1])\n",
    "    ##S2_ = np.asarray(np.mean(S2_,axis=0)).reshape([-1,1])\n",
    "    S1_ = np.asarray(np.sum(S1_,axis=0)).reshape([-1,1])\n",
    "    S2_ = np.asarray(np.sum(S2_,axis=0)).reshape([-1,1])\n",
    "    results_.extend(S1_)\n",
    "    results_.extend(S2_)\n",
    "    ###results_.append(cosine(S1_,S2_))\n",
    "\n",
    "    #try:\n",
    "    # fit CV on words with or without a single quote\n",
    "    vect = CountVectorizer(token_pattern='[\\w\\']+').fit([s_1, s_2])\n",
    "    features = np.asarray(vect.get_feature_names())\n",
    "\n",
    "    # get 'flow' vectors\n",
    "    v_1, v_2 = vect.transform([s_1, s_2])\n",
    "    v_1 = v_1.toarray().ravel().astype(np.float64)\n",
    "    v_2 = v_2.toarray().ravel().astype(np.float64)\n",
    "\n",
    "    # normalize vectors so as not to reward shorter strings in WMD\n",
    "    v_1 /= (v_1.sum()+epsilon)\n",
    "    v_2 /= (v_2.sum()+epsilon)\n",
    "\n",
    "    # for each out-of-vocabulary item, use the average of the 20\n",
    "    # rarest words' embeddings to represent it in the distance calc       \n",
    "    W_ = np.ndarray([0,300])\n",
    "\n",
    "    # get distance matrix for words in both strings\n",
    "    for w in features:\n",
    "        if w in vocab_dict:\n",
    "            W_ = np.append(W_,embeddings[[vocab_dict[w]]],axis=0)\n",
    "        else:\n",
    "            W_ = np.append(W_,bad_row,axis=0)\n",
    "\n",
    "    # use both euclidean and cosine dists (cosine dist is 1-cosine sim)\n",
    "    D_euclidean = euclidean_distances(W_).astype(np.float64)\n",
    "    D_cosine = 1.-cosine_similarity(W_,).astype(np.float64)\n",
    "\n",
    "    # using EMD (Earth Mover's Distance) from PyEMD\n",
    "    distances_euclidean = emd(v_1,v_2,D_euclidean)\n",
    "    distances_cosine = emd(v_1,v_2,D_cosine)\n",
    "\n",
    "    # both WMD calculations (euclidean and cosine)\n",
    "    results_.append(distances_euclidean)\n",
    "    results_.append(distances_cosine)\n",
    "\n",
    "    return results_\n"
   ]
  },
  {
   "cell_type": "code",
   "execution_count": 53,
   "metadata": {
    "collapsed": true
   },
   "outputs": [],
   "source": [
    "#training_set = '/Users/Rutherford/Desktop/cleaning_dataset.csv'\n",
    "training_set = '/Users/Rutherford/Desktop/clean_11_10.csv'"
   ]
  },
  {
   "cell_type": "markdown",
   "metadata": {},
   "source": [
    "### changed vector calculation to sum instead of mean on 11/9\n",
    "- scale back all features to see how well having just those vectors does, maybe with cosine\n",
    "- reduce layers to just one"
   ]
  },
  {
   "cell_type": "code",
   "execution_count": 54,
   "metadata": {
    "collapsed": false
   },
   "outputs": [],
   "source": [
    "# data generation from orginal nn\n",
    "\n",
    "# original training set cols are Error_type, Str_1, Str_2\n",
    "X_in = np.genfromtxt(training_set,\n",
    "              delimiter=',',usecols=(1,2),dtype=str)\n",
    "Y_in = np.genfromtxt(training_set,\n",
    "              delimiter=',',usecols=(0)).reshape((-1,1))\n",
    "\n",
    "X = []\n",
    "Y = []\n",
    "bad = []\n",
    "\n",
    "for i,strings in enumerate(X_in):\n",
    "    try:\n",
    "        scores = _get_dist(strings[0],strings[1])\n",
    "        X.extend(scores)\n",
    "\n",
    "        # target\n",
    "        Y.append(Y_in[i])\n",
    "    except:\n",
    "        bad.append(i)\n",
    "        continue\n",
    "\n",
    "X = np.asarray(X).reshape((-1,608))\n",
    "Y = np.asarray(Y).reshape((-1,1))\n",
    "\n",
    "# unshuffled indices\n",
    "indices = range(X.shape[0])\n",
    "\n",
    "# randomly shuffle the data\n",
    "np.random.seed(30)\n",
    "np.random.shuffle(indices)\n",
    "X = X[indices]\n",
    "Y = Y[indices]\n",
    "\n",
    "# transform Y from either 1 or 2 to a one-hot vector ([1,0] or [0,1])\n",
    "y_list = []\n",
    "for i, label in enumerate(Y):\n",
    "    if label == 2:\n",
    "        label = 1\n",
    "        y_list.append(np.insert(label,0,0))\n",
    "    elif label == 1:\n",
    "        y_list.append(np.insert(label,1,0))\n",
    "    else:\n",
    "        raise ValueError(\"Y label must be either 1 (minor) or                                     2 (major). Problem at index \", indices[i])\n",
    "Y = np.asarray(y_list)\n",
    "\n",
    "#X,Y,indices,X_in\n"
   ]
  },
  {
   "cell_type": "code",
   "execution_count": 71,
   "metadata": {
    "collapsed": true
   },
   "outputs": [],
   "source": [
    "indices_np = np.asarray(indices)"
   ]
  },
  {
   "cell_type": "code",
   "execution_count": 73,
   "metadata": {
    "collapsed": false
   },
   "outputs": [],
   "source": [
    "indices_np.tofile('/Users/Rutherford/Desktop/indices')\n",
    "X.tofile('/Users/Rutherford/Desktop/X')\n",
    "Y.tofile('/Users/Rutherford/Desktop/Y')\n",
    "X_in.tofile('/Users/Rutherford/Desktop/X_in')\n",
    "Y_in.tofile('/Users/Rutherford/Desktop/Y_in')"
   ]
  },
  {
   "cell_type": "code",
   "execution_count": 84,
   "metadata": {
    "collapsed": false
   },
   "outputs": [
    {
     "data": {
      "text/plain": [
       "(71670, 1)"
      ]
     },
     "execution_count": 84,
     "metadata": {},
     "output_type": "execute_result"
    }
   ],
   "source": [
    "Y_in.shape"
   ]
  },
  {
   "cell_type": "code",
   "execution_count": null,
   "metadata": {
    "collapsed": true
   },
   "outputs": [],
   "source": [
    "#np.save('/Users/Rutherford/Desktop/indices',indices_np)\n",
    "#np.save('/Users/Rutherford/Desktop/X',X)\n",
    "#np.save('/Users/Rutherford/Desktop/Y',Y)"
   ]
  },
  {
   "cell_type": "code",
   "execution_count": null,
   "metadata": {
    "collapsed": true
   },
   "outputs": [],
   "source": []
  },
  {
   "cell_type": "code",
   "execution_count": 55,
   "metadata": {
    "collapsed": false
   },
   "outputs": [
    {
     "name": "stdout",
     "output_type": "stream",
     "text": [
      "[4.770214179148052, 0.8815654487685087]\n",
      "[3.699753802978358, 0.7234147769894244]\n",
      "[1.9456834091906847, 0.1893382294326056]\n",
      "[2.811389079219578, 0.35899342428994807]\n",
      "[1.3961305242498936, 0.4568666586423781]\n",
      "[1.7752514573386848, 0.38696638491390595]\n",
      "[1.4063165070301533, 0.49388234017239835]\n"
     ]
    }
   ],
   "source": [
    "# sanity checks for wmd distances\n",
    "print(_get_dist('carp','crap')[-2:])\n",
    "print(_get_dist('elude','allude')[-2:])\n",
    "print(_get_dist('dog','puppy')[-2:])\n",
    "print(_get_dist('snake','serpent')[-2:])\n",
    "print(_get_dist('this','that')[-2:])\n",
    "print(_get_dist('he','she')[-2:])\n",
    "print(_get_dist('and I ran','if I run')[-2:])"
   ]
  },
  {
   "cell_type": "markdown",
   "metadata": {},
   "source": [
    "## RF"
   ]
  },
  {
   "cell_type": "code",
   "execution_count": 634,
   "metadata": {
    "collapsed": true
   },
   "outputs": [],
   "source": [
    "# playing with distance calculations.. using only a few features for RF\n",
    "\n",
    "def dist2(s_1,s_2):\n",
    "    \"\"\"Return counts of in-vocabulary and out-of-vocabulary items per\n",
    "    string, means of embeddings per string, and Word Mover's Distance\n",
    "    between the two. Word embeddings and mappings were created upon\n",
    "    initialization of the class instance, and WMD with emd()\n",
    "    (Earth Mover's Distance) from PyEMD. Final shape is [1,612].\n",
    "    \"\"\"\n",
    "\n",
    "    results_ = []\n",
    "\n",
    "    ###############\n",
    "    #s_1 = re.sub(r\"\\bs\\d{0,2}\\b\",'speaker',s_1)\n",
    "    #s_1 = re.sub(r\"\\b\\d{5,6}\\b\",'timestamp',s_1)\n",
    "    #s_1 = re.sub(r'\\d+','digit',s_1)\n",
    "    s_1 = re.sub(r'-',' ',s_1)\n",
    "    s_1 = re.sub(r\"\\ba\\b\",'one',s_1)\n",
    "\n",
    "    #s_2 = re.sub(r\"\\bs\\d{0,2}\\b\",'speaker',s_2)\n",
    "    #s_2 = re.sub(r\"\\b\\d{5,6}\\b\",'timestamp',s_2)\n",
    "    #s_2 = re.sub(r'\\d+','digit',s_2)\n",
    "    s_2 = re.sub(r'-',' ',s_2)\n",
    "    s_2 = re.sub(r\"\\ba\\b\",'one',s_2)\n",
    "\n",
    "    # string lengths for each pair\n",
    "    str1_len = len(s_1)\n",
    "    str2_len = len(s_2)\n",
    "\n",
    "    # combine string metrics together and get scores from _get_dist()\n",
    "    string_metrics = [str1_len,str2_len]\n",
    "    results_.extend(string_metrics)\n",
    "\n",
    "    # moved this up here from mean of word embeddings section\n",
    "    s1_features = s_1.split()\n",
    "    s2_features = s_2.split()\n",
    "\n",
    "    # sum of indices; proxy for word rarity\n",
    "    ###results_.append(self._index_check(s1_features))\n",
    "    ###results_.append(self._index_check(s2_features))        \n",
    "\n",
    "\n",
    "    # number of out-of-vocabulary and in-vocabulary items\n",
    "    #s_1_bad = sum(map(lambda word:word not in self.vocab_dict,s1_features))\n",
    "    #s_1_good = sum(map(lambda word:word in self.vocab_dict,s1_features))\n",
    "    #s_2_bad = sum(map(lambda word:word not in self.vocab_dict,s2_features))\n",
    "    #s_2_good = sum(map(lambda word:word in self.vocab_dict,s2_features))\n",
    "    ###results_.append(s_1_bad)\n",
    "    ###results_.append(s_1_good)\n",
    "    ###results_.append(s_2_bad)\n",
    "    ###results_.append(s_2_good)\n",
    "\n",
    "    # mean of word embeddings per string (0s if no items are in embeddings)\n",
    "    # shape is [1,300] per string\n",
    "    S1_ = embeddings[[vocab_dict[w] for w in s1_features if w in vocab_dict]]\n",
    "    S2_ = embeddings[[vocab_dict[w] for w in s2_features if w in vocab_dict]]\n",
    "    if S1_.shape[0]==0:\n",
    "        S1_ = np.zeros((1,300))+epsilon\n",
    "    if S2_.shape[0]==0:\n",
    "        S2_ = np.zeros((1,300))+epsilon\n",
    "    S1_ = np.asarray(np.mean(S1_,axis=0)).reshape([-1,1])\n",
    "    S2_ = np.asarray(np.mean(S2_,axis=0)).reshape([-1,1])\n",
    "    #results_.extend(S1_)\n",
    "    #results_.extend(S2_)\n",
    "    results_.append(cosine(S1_,S2_))\n",
    "\n",
    "    \"\"\"\n",
    "    #try:\n",
    "    # fit CV on words with or without a single quote\n",
    "    vect = CountVectorizer(token_pattern='[\\w\\']+').fit([s_1, s_2])\n",
    "    features = np.asarray(vect.get_feature_names())\n",
    "\n",
    "    # get 'flow' vectors\n",
    "    v_1, v_2 = vect.transform([s_1, s_2])\n",
    "    v_1 = v_1.toarray().ravel().astype(np.float64)\n",
    "    v_2 = v_2.toarray().ravel().astype(np.float64)\n",
    "\n",
    "    # normalize vectors so as not to reward shorter strings in WMD\n",
    "    v_1 /= (v_1.sum()+epsilon)\n",
    "    v_2 /= (v_2.sum()+epsilon)\n",
    "\n",
    "    # for each out-of-vocabulary item, use the average of the 20\n",
    "    # rarest words' embeddings to represent it in the distance calc       \n",
    "    W_ = np.ndarray([0,300])\n",
    "\n",
    "    # get distance matrix for words in both strings\n",
    "    for w in features:\n",
    "        if w in vocab_dict:\n",
    "            W_ = np.append(W_,embeddings[[vocab_dict[w]]],axis=0)\n",
    "        else:\n",
    "            W_ = np.append(W_,bad_row,axis=0)\n",
    "\n",
    "    # use both euclidean and cosine dists (cosine dist is 1-cosine sim)\n",
    "    D_euclidean = euclidean_distances(W_).astype(np.float64)\n",
    "    D_cosine = 1.-cosine_similarity(W_,).astype(np.float64)\n",
    "\n",
    "    # using EMD (Earth Mover's Distance) from PyEMD\n",
    "    distances_euclidean = emd(v_1,v_2,D_euclidean)\n",
    "    distances_cosine = emd(v_1,v_2,D_cosine)\n",
    "\n",
    "    # both WMD calculations (euclidean and cosine)\n",
    "    results_.append(distances_euclidean)\n",
    "    results_.append(distances_cosine)\n",
    "    \"\"\"\n",
    "    return results_\n"
   ]
  },
  {
   "cell_type": "code",
   "execution_count": null,
   "metadata": {
    "collapsed": true
   },
   "outputs": [],
   "source": [
    "X2 = []\n",
    "Y2 = []\n",
    "bad2 = []\n",
    "\n",
    "for i,strings in enumerate(X_in):\n",
    "    try:\n",
    "        scores = dist2(strings[0],strings[1])\n",
    "        X2.extend(scores)\n",
    "\n",
    "        # target\n",
    "        Y2.append(Y_in[i])\n",
    "    except:\n",
    "        bad.append(i)\n",
    "        continue\n",
    "\n",
    "X2 = np.asarray(X2).reshape((-1,3))\n",
    "Y2 = np.asarray(Y2).reshape((-1,1))"
   ]
  },
  {
   "cell_type": "code",
   "execution_count": 40,
   "metadata": {
    "collapsed": false
   },
   "outputs": [],
   "source": [
    "Ysecond = Y_in.reshape([-1,])"
   ]
  },
  {
   "cell_type": "code",
   "execution_count": 45,
   "metadata": {
    "collapsed": false
   },
   "outputs": [],
   "source": [
    "# unshuffled indices\n",
    "indices2 = range(X2.shape[0])\n",
    "\n",
    "# randomly shuffle the data\n",
    "np.random.seed(30)\n",
    "np.random.shuffle(indices2)\n",
    "X2 = X2[indices2]\n",
    "Y2 = Ysecond[indices2]"
   ]
  },
  {
   "cell_type": "code",
   "execution_count": 46,
   "metadata": {
    "collapsed": false
   },
   "outputs": [],
   "source": [
    "validation_size = .2\n",
    "test_size = .1\n",
    "# create split indices for validation, test, and train sets\n",
    "_validation_test_split_idx2 = int(len(Y2)*validation_size)\n",
    "_train_test_split_idx2 = int(len(Y2)*test_size)+_validation_test_split_idx2\n",
    "\n",
    "# split data\n",
    "x2_validation = X2[:_validation_test_split_idx2]\n",
    "x2_test = X2[_validation_test_split_idx2:\n",
    "                     _train_test_split_idx2]\n",
    "x2_train = X2[_train_test_split_idx2:]\n",
    "y2_validation = Y2[:_validation_test_split_idx2]\n",
    "y2_test = Y2[_validation_test_split_idx2:\n",
    "                     _train_test_split_idx2]\n",
    "y2_train = Y2[_train_test_split_idx2:]"
   ]
  },
  {
   "cell_type": "code",
   "execution_count": 33,
   "metadata": {
    "collapsed": true
   },
   "outputs": [],
   "source": [
    "from sklearn.ensemble import RandomForestClassifier"
   ]
  },
  {
   "cell_type": "code",
   "execution_count": 251,
   "metadata": {
    "collapsed": false
   },
   "outputs": [
    {
     "ename": "NameError",
     "evalue": "name 'RandomForestClassifier' is not defined",
     "output_type": "error",
     "traceback": [
      "\u001b[0;31m---------------------------------------------------------------------------\u001b[0m",
      "\u001b[0;31mNameError\u001b[0m                                 Traceback (most recent call last)",
      "\u001b[0;32m<ipython-input-251-153b9fb5b352>\u001b[0m in \u001b[0;36m<module>\u001b[0;34m()\u001b[0m\n\u001b[0;32m----> 1\u001b[0;31m \u001b[0mrf\u001b[0m \u001b[0;34m=\u001b[0m \u001b[0mRandomForestClassifier\u001b[0m\u001b[0;34m(\u001b[0m\u001b[0;34m)\u001b[0m\u001b[0;34m\u001b[0m\u001b[0m\n\u001b[0m",
      "\u001b[0;31mNameError\u001b[0m: name 'RandomForestClassifier' is not defined"
     ]
    }
   ],
   "source": [
    "rf = RandomForestClassifier()"
   ]
  },
  {
   "cell_type": "code",
   "execution_count": 47,
   "metadata": {
    "collapsed": false
   },
   "outputs": [
    {
     "data": {
      "text/plain": [
       "RandomForestClassifier(bootstrap=True, class_weight=None, criterion='gini',\n",
       "            max_depth=None, max_features='auto', max_leaf_nodes=None,\n",
       "            min_samples_leaf=1, min_samples_split=2,\n",
       "            min_weight_fraction_leaf=0.0, n_estimators=10, n_jobs=1,\n",
       "            oob_score=False, random_state=None, verbose=0,\n",
       "            warm_start=False)"
      ]
     },
     "execution_count": 47,
     "metadata": {},
     "output_type": "execute_result"
    }
   ],
   "source": [
    "rf.fit(x2_train,y2_train)"
   ]
  },
  {
   "cell_type": "code",
   "execution_count": 50,
   "metadata": {
    "collapsed": false
   },
   "outputs": [
    {
     "data": {
      "text/plain": [
       "0.86239024063275016"
      ]
     },
     "execution_count": 50,
     "metadata": {},
     "output_type": "execute_result"
    }
   ],
   "source": [
    "rf.score(x2_validation,y2_validation)"
   ]
  },
  {
   "cell_type": "code",
   "execution_count": 86,
   "metadata": {
    "collapsed": false
   },
   "outputs": [
    {
     "name": "stdout",
     "output_type": "stream",
     "text": [
      "617\n",
      "14302\n",
      "1580\n"
     ]
    }
   ],
   "source": [
    "print(sum(rf.predict(x2_validation)==2))\n",
    "print(sum(rf.predict(x2_validation)==1))\n",
    "print(sum(y2_validation==2))"
   ]
  },
  {
   "cell_type": "code",
   "execution_count": 87,
   "metadata": {
    "collapsed": false
   },
   "outputs": [],
   "source": [
    "FN_indices = np.where((y2_validation==2) & (rf.predict(x2_validation)==1))[0].tolist()\n",
    "TP_indices = np.where((y2_validation==2) & (rf.predict(x2_validation)==2))[0].tolist()"
   ]
  },
  {
   "cell_type": "code",
   "execution_count": 79,
   "metadata": {
    "collapsed": false
   },
   "outputs": [],
   "source": [
    "tester = []\n",
    "for i in FN_indices:\n",
    "    tester.append(indices2[:_validation_test_split_idx2][i])"
   ]
  },
  {
   "cell_type": "code",
   "execution_count": 81,
   "metadata": {
    "collapsed": false
   },
   "outputs": [
    {
     "data": {
      "text/plain": [
       "1508"
      ]
     },
     "execution_count": 81,
     "metadata": {},
     "output_type": "execute_result"
    }
   ],
   "source": [
    "len(tester)"
   ]
  },
  {
   "cell_type": "code",
   "execution_count": 94,
   "metadata": {
    "collapsed": false
   },
   "outputs": [],
   "source": [
    "TPs = [indices2[:_validation_test_split_idx2][i] for i in TP_indices]"
   ]
  },
  {
   "cell_type": "code",
   "execution_count": 98,
   "metadata": {
    "collapsed": false
   },
   "outputs": [
    {
     "data": {
      "text/plain": [
       "1580"
      ]
     },
     "execution_count": 98,
     "metadata": {},
     "output_type": "execute_result"
    }
   ],
   "source": [
    "sum(y2_validation==2)"
   ]
  },
  {
   "cell_type": "code",
   "execution_count": 637,
   "metadata": {
    "collapsed": false
   },
   "outputs": [],
   "source": [
    "#Y_in[TPs]"
   ]
  },
  {
   "cell_type": "code",
   "execution_count": 638,
   "metadata": {
    "collapsed": false
   },
   "outputs": [],
   "source": [
    "#X_in[TPs]"
   ]
  },
  {
   "cell_type": "code",
   "execution_count": null,
   "metadata": {
    "collapsed": true
   },
   "outputs": [],
   "source": []
  },
  {
   "cell_type": "code",
   "execution_count": null,
   "metadata": {
    "collapsed": true
   },
   "outputs": [],
   "source": []
  },
  {
   "cell_type": "markdown",
   "metadata": {},
   "source": [
    "## RNN"
   ]
  },
  {
   "cell_type": "code",
   "execution_count": 639,
   "metadata": {
    "collapsed": true
   },
   "outputs": [],
   "source": [
    "def dist2(s_1,s_2):\n",
    "\n",
    "    results_ = []\n",
    "\n",
    "    ###############\n",
    "    #s_1 = re.sub(r\"\\bs\\d{0,2}\\b\",'speaker',s_1)\n",
    "    #s_1 = re.sub(r\"\\b\\d{5,6}\\b\",'timestamp',s_1)\n",
    "    #s_1 = re.sub(r'\\d+','digit',s_1)\n",
    "    s_1 = re.sub(r'-',' ',s_1)\n",
    "    s_1 = re.sub(r\"\\ba\\b\",'one',s_1)\n",
    "\n",
    "    #s_2 = re.sub(r\"\\bs\\d{0,2}\\b\",'speaker',s_2)\n",
    "    #s_2 = re.sub(r\"\\b\\d{5,6}\\b\",'timestamp',s_2)\n",
    "    #s_2 = re.sub(r'\\d+','digit',s_2)\n",
    "    s_2 = re.sub(r'-',' ',s_2)\n",
    "    s_2 = re.sub(r\"\\ba\\b\",'one',s_2)\n",
    "    \n",
    "    ##### FUZZIES\n",
    "    \n",
    "    # string lengths for each pair\n",
    "    str1_len = len(s_1)\n",
    "    str2_len = len(s_2)\n",
    "\n",
    "    # combine string metrics together and get scores from _get_dist()\n",
    "    string_metrics = [str1_len,str2_len]\n",
    "    results_.extend(string_metrics)\n",
    "\n",
    "    # moved this up here from mean of word embeddings section\n",
    "    s1_features = s_1.split()\n",
    "    s2_features = s_2.split()\n",
    "\n",
    "    # sum of indices; proxy for word rarity\n",
    "    ###results_.append(self._index_check(s1_features))\n",
    "    ###results_.append(self._index_check(s2_features))        \n",
    "\n",
    "\n",
    "    # number of out-of-vocabulary and in-vocabulary items\n",
    "    #s_1_bad = sum(map(lambda word:word not in self.vocab_dict,s1_features))\n",
    "    #s_1_good = sum(map(lambda word:word in self.vocab_dict,s1_features))\n",
    "    #s_2_bad = sum(map(lambda word:word not in self.vocab_dict,s2_features))\n",
    "    #s_2_good = sum(map(lambda word:word in self.vocab_dict,s2_features))\n",
    "    ###results_.append(s_1_bad)\n",
    "    ###results_.append(s_1_good)\n",
    "    ###results_.append(s_2_bad)\n",
    "    ###results_.append(s_2_good)\n",
    "    \n",
    "    #COSINE:\n",
    "    # mean of word embeddings per string (0s if no items are in embeddings)\n",
    "    # shape is [1,300] per string\n",
    "    S1_ = embeddings[[vocab_dict[w] for w in s1_features if w in vocab_dict]]\n",
    "    S2_ = embeddings[[vocab_dict[w] for w in s2_features if w in vocab_dict]]\n",
    "    if S1_.shape[0]==0:\n",
    "        S1_ = np.zeros((1,300))+epsilon\n",
    "    if S2_.shape[0]==0:\n",
    "        S2_ = np.zeros((1,300))+epsilon\n",
    "    S1_ = np.asarray(np.mean(S1_,axis=0)).reshape([-1,1])\n",
    "    S2_ = np.asarray(np.mean(S2_,axis=0)).reshape([-1,1])\n",
    "    #results_.extend(S1_)\n",
    "    #results_.extend(S2_)\n",
    "    results_.append(cosine(S1_,S2_))\n",
    "\n",
    "\n",
    "    #try:\n",
    "    # fit CV on words with or without a single quote\n",
    "    vect = CountVectorizer(token_pattern='[\\w\\']+').fit([s_1, s_2])\n",
    "    features = np.asarray(vect.get_feature_names())\n",
    "\n",
    "    # get 'flow' vectors\n",
    "    v_1, v_2 = vect.transform([s_1, s_2])\n",
    "    v_1 = v_1.toarray().ravel().astype(np.float64)\n",
    "    v_2 = v_2.toarray().ravel().astype(np.float64)\n",
    "\n",
    "    # normalize vectors so as not to reward shorter strings in WMD\n",
    "    v_1 /= (v_1.sum()+epsilon)\n",
    "    v_2 /= (v_2.sum()+epsilon)\n",
    "\n",
    "    # for each out-of-vocabulary item, use the average of the 20\n",
    "    # rarest words' embeddings to represent it in the distance calc       \n",
    "    W_ = np.ndarray([0,300])\n",
    "\n",
    "    # get distance matrix for words in both strings\n",
    "    for w in features:\n",
    "        if w in vocab_dict:\n",
    "            W_ = np.append(W_,embeddings[[vocab_dict[w]]],axis=0)\n",
    "        else:\n",
    "            W_ = np.append(W_,bad_row,axis=0)\n",
    "\n",
    "    # use both euclidean and cosine dists (cosine dist is 1-cosine sim)\n",
    "    D_euclidean = euclidean_distances(W_).astype(np.float64)\n",
    "    D_cosine = 1.-cosine_similarity(W_,).astype(np.float64)\n",
    "\n",
    "    # using EMD (Earth Mover's Distance) from PyEMD\n",
    "    distances_euclidean = emd(v_1,v_2,D_euclidean)\n",
    "    distances_cosine = emd(v_1,v_2,D_cosine)\n",
    "\n",
    "    # both WMD calculations (euclidean and cosine)\n",
    "    results_.append(distances_euclidean)\n",
    "    results_.append(distances_cosine)\n",
    "\n",
    "    return results_\n"
   ]
  },
  {
   "cell_type": "code",
   "execution_count": 643,
   "metadata": {
    "collapsed": false
   },
   "outputs": [
    {
     "data": {
      "text/plain": [
       "608"
      ]
     },
     "execution_count": 643,
     "metadata": {},
     "output_type": "execute_result"
    }
   ],
   "source": [
    "#NO COSINE\n",
    "len(_get_dist('this','that'))"
   ]
  },
  {
   "cell_type": "code",
   "execution_count": null,
   "metadata": {
    "collapsed": true
   },
   "outputs": [],
   "source": []
  },
  {
   "cell_type": "code",
   "execution_count": 56,
   "metadata": {
    "collapsed": false
   },
   "outputs": [],
   "source": [
    "validation_size = .2\n",
    "test_size = .1\n",
    "# create split indices for validation, test, and train sets\n",
    "_validation_test_split_idx = int(len(Y)*validation_size)\n",
    "_train_test_split_idx = int(len(Y)*test_size)+_validation_test_split_idx\n",
    "\n",
    "# split data\n",
    "x_validation = X[:_validation_test_split_idx]\n",
    "x_test = X[_validation_test_split_idx:\n",
    "                     _train_test_split_idx]\n",
    "x_train = X[_train_test_split_idx:]\n",
    "y_validation = Y[:_validation_test_split_idx]\n",
    "y_test = Y[_validation_test_split_idx:\n",
    "                     _train_test_split_idx]\n",
    "y_train = Y[_train_test_split_idx:]\n",
    "#print(x_validation.shape,x_test.shape,x_train.shape)"
   ]
  },
  {
   "cell_type": "code",
   "execution_count": 57,
   "metadata": {
    "collapsed": true
   },
   "outputs": [],
   "source": [
    "def RNN(x, weights, biases, n_hidden):\n",
    "\n",
    "    # Prepare data shape to match `rnn` function requirements\n",
    "    # Current data input shape: (batch_size, n_steps, n_input)\n",
    "    # Required shape: 'n_steps' tensors list of shape (batch_size, n_input)\n",
    "\n",
    "    # Permuting batch_size and n_steps\n",
    "    x = tf.transpose(x, [1, 0, 2])\n",
    "    # Reshaping to (n_steps*batch_size, n_input)\n",
    "    x = tf.reshape(x, [-1, n_input])\n",
    "    # Split to get a list of 'n_steps' tensors of shape (batch_size, n_input)\n",
    "    x = tf.split(0, n_steps, x)\n",
    "\n",
    "    # Define a lstm cell with tensorflow\n",
    "    lstm_cell = tf.nn.rnn_cell.BasicLSTMCell(n_hidden, forget_bias=.8, state_is_tuple=True)\n",
    "\n",
    "    # Get lstm cell output\n",
    "    outputs, states = tf.nn.rnn(lstm_cell, x, dtype=tf.float32)\n",
    "\n",
    "    # Linear activation, using rnn inner loop last output\n",
    "    return tf.matmul(outputs[-1], weights['out']) + biases['out']\n"
   ]
  },
  {
   "cell_type": "code",
   "execution_count": 74,
   "metadata": {
    "collapsed": true
   },
   "outputs": [],
   "source": [
    "# Parameters\n",
    "learning_rate = 0.001\n",
    "training_iters = 75#1000#000\n",
    "batch_size = 32\n",
    "display_step = 1\n",
    "\n",
    "\n",
    "# Network Parameters\n",
    "n_input = 608 # MNIST data input (img shape: 28*28)\n",
    "n_steps = 1 # timesteps\n",
    "num_hidden = 128#128 # hidden layer num of features\n",
    "n_classes = 2 # MNIST total classes (0-9 digits)"
   ]
  },
  {
   "cell_type": "code",
   "execution_count": 75,
   "metadata": {
    "collapsed": true
   },
   "outputs": [],
   "source": [
    "def build_graph():\n",
    "    '''\n",
    "    To classify images using a recurrent neural network, we consider every image\n",
    "    row as a sequence of pixels. Because MNIST image shape is 28*28px, we will then\n",
    "    handle 28 sequences of 28 steps for every sample.\n",
    "    '''\n",
    "\n",
    "    # tf Graph input\n",
    "    x = tf.placeholder(\"float\", [None, n_steps, n_input])\n",
    "    y = tf.placeholder(\"float\", [None, n_classes])\n",
    "\n",
    "    # Define weights\n",
    "    weights = {\n",
    "        'out': tf.Variable(tf.random_normal([num_hidden, n_classes]))\n",
    "    }\n",
    "    biases = {\n",
    "        'out': tf.Variable(tf.random_normal([n_classes]))\n",
    "    }\n",
    "    start = time()\n",
    "    pred = RNN(x, weights, biases, num_hidden)\n",
    "\n",
    "    # Define loss and optimizer\n",
    "    #########J = sum(sum(6*(y*tf.log(pred))+(1-y)*tf.log(1-pred)))\n",
    "    \n",
    "    cost = tf.reduce_mean(tf.nn.softmax_cross_entropy_with_logits(pred, y))\n",
    "    ##ratio = 8034.0 / (66561.0 + 8034.0)\n",
    "    #class_weight = tf.constant(1.-ratio)#, 1.0 - ratio\n",
    "    ##class_weight = tf.constant(-ratio)\n",
    "    ##cost = tf.reduce_mean(tf.nn.weighted_cross_entropy_with_logits(pred, y, pos_weight=class_weight))\n",
    "    ### doesn't work but cost = tf.reduce_mean(tf.square(tf.cast(tf.less(pred, y),dtype=tf.float32)))\n",
    "    \n",
    "    #optimizer = tf.train.AdamOptimizer(learning_rate=learning_rate).minimize(cost)\n",
    "    optimizer = tf.train.AdagradOptimizer(learning_rate=learning_rate).minimize(cost)\n",
    "    \n",
    "    # Evaluate model\n",
    "    correct_pred = tf.equal(tf.argmax(pred,1), tf.argmax(y,1))\n",
    "    accuracy = tf.reduce_mean(tf.cast(correct_pred, tf.float32))\n",
    "    \n",
    "    return (x,y),cost,optimizer,pred,accuracy,learning_rate,tf.train.Saver()"
   ]
  },
  {
   "cell_type": "code",
   "execution_count": 60,
   "metadata": {
    "collapsed": false
   },
   "outputs": [],
   "source": [
    "#sum(Y_in==2)/(sum(Y_in==1)+sum(Y_in==2))"
   ]
  },
  {
   "cell_type": "code",
   "execution_count": 76,
   "metadata": {
    "collapsed": false
   },
   "outputs": [],
   "source": [
    "def train():\n",
    "    tf.reset_default_graph()\n",
    "    (X,Y),cost,train_op,preds,accuracy,lr,saver = build_graph()\n",
    "\n",
    "    x_train_reshaped = x_train.reshape((-1,n_steps,n_input))\n",
    "    x_val_reshaped = x_validation.reshape((-1,n_steps,n_input))\n",
    "    x_test_reshaped = x_test.reshape((-1,n_steps,n_input))\n",
    "    #x_reshaped = x_train.reshape((-1,n_steps,n_input))\n",
    "    #x_val = x_validation.reshape((-1,n_steps,n_input))\n",
    "    #x_test_reshaped = x_test.reshape((-1,n_steps,n_input))\n",
    "    val_acc_list = [0]\n",
    "    tr_acc_list = [0]\n",
    "    val_cost_list = [0]\n",
    "    tr_cost_list = [0]\n",
    "\n",
    "    # Launch the graph\n",
    "    with tf.Session() as sess:\n",
    "        sess.run(tf.initialize_all_variables())\n",
    "        start_end = zip(range(0,len(x_train),batch_size),\n",
    "                   range(batch_size,len(x_train)+1,\n",
    "                         batch_size))\n",
    "        \n",
    "        for pass_i in range(training_iters):\n",
    "            for (s,e) in start_end:\n",
    "\n",
    "                \"\"\"batch_x, batch_y = mnist.train.next_batch(batch_size)\n",
    "                # Reshape data to get 28 seq of 28 elements\n",
    "                batch_x = batch_x.reshape((batch_size, n_steps, n_input))\"\"\"\n",
    "\n",
    "                ######x_batch = x_train[s:e,].reshape((batch_size,n_steps,n_input))\n",
    "                # Run optimization op (backprop)\n",
    "                sess.run(train_op, feed_dict={X: x_train_reshaped[s:e,:,:], Y: y_train[s:e]})\n",
    "                # Calculate batch accuracy\n",
    "                #train_acc = sess.run(accuracy, feed_dict={x: x_batch, y: y_train[s:e]})\n",
    "                # Calculate batch loss\n",
    "                #train_loss = sess.run(cost, feed_dict={x: x_batch, y: y_train[s:e]})\n",
    "\n",
    "            #print('validation accuracy: ',sess.run(accuracy, feed_dict={X: x_val_reshaped, Y: y_validation}))\n",
    "\n",
    "            tr_loss = sess.run(cost, feed_dict={X: x_train_reshaped, Y: y_train})\n",
    "            tr_acc = sess.run(accuracy, feed_dict={X: x_train_reshaped, Y: y_train})\n",
    "            val_loss = sess.run(cost, feed_dict={X: x_val_reshaped, Y: y_validation})\n",
    "            val_acc = sess.run(accuracy, feed_dict={X: x_val_reshaped, Y: y_validation})\n",
    "            #tes_loss = sess.run(cost, feed_dict={X: x_test_reshaped, Y: y_test})\n",
    "            #tes_acc = sess.run(accuracy, feed_dict={X: x_test_reshaped, Y: y_test})\n",
    "\n",
    "            print(\"Iter \" + str(pass_i) + \", Train Loss= \" + \\\n",
    "                  \"{:.6f}\".format(tr_loss) + \", Train Acc= \" + \\\n",
    "                  \"{:.5f}\".format(tr_acc) + \", Val Loss= \" + \\\n",
    "                  \"{:.6f}\".format(val_loss) + \", Val Acc= \" + \\\n",
    "                  \"{:.5f}\".format(val_acc)\n",
    "                 )\n",
    "            if val_acc > max(val_acc_list):\n",
    "                saver.save(sess,'/Users/Rutherford/Desktop/rnn models/model.ckpt')\n",
    "                print('model saved.')\n",
    "            \n",
    "            val_acc_list.append(val_acc)\n",
    "            tr_acc_list.append(tr_acc)\n",
    "            val_cost_list.append(val_loss)\n",
    "            tr_cost_list.append(tr_loss)\n",
    "\n",
    "\n",
    "        print(\"Optimization Finished!\")\n",
    "    return val_acc_list,val_cost_list,tr_acc_list,tr_cost_list"
   ]
  },
  {
   "cell_type": "code",
   "execution_count": 77,
   "metadata": {
    "collapsed": false,
    "scrolled": true
   },
   "outputs": [
    {
     "name": "stdout",
     "output_type": "stream",
     "text": [
      "Iter 0, Train Loss= 0.458476, Train Acc= 0.80211, Val Loss= 0.463231, Val Acc= 0.79817\n",
      "model saved.\n",
      "Iter 1, Train Loss= 0.432207, Train Acc= 0.81271, Val Loss= 0.436868, Val Acc= 0.80989\n",
      "model saved.\n",
      "Iter 2, Train Loss= 0.418710, Train Acc= 0.81925, Val Loss= 0.423497, Val Acc= 0.81659\n",
      "model saved.\n",
      "Iter 3, Train Loss= 0.410052, Train Acc= 0.82196, Val Loss= 0.415090, Val Acc= 0.81980\n",
      "model saved.\n",
      "Iter 4, Train Loss= 0.403870, Train Acc= 0.82397, Val Loss= 0.409225, Val Acc= 0.82301\n",
      "model saved.\n",
      "Iter 5, Train Loss= 0.399057, Train Acc= 0.82700, Val Loss= 0.404780, Val Acc= 0.82629\n",
      "model saved.\n",
      "Iter 6, Train Loss= 0.395086, Train Acc= 0.82860, Val Loss= 0.401183, Val Acc= 0.82657\n",
      "model saved.\n",
      "Iter 7, Train Loss= 0.391658, Train Acc= 0.83003, Val Loss= 0.398115, Val Acc= 0.82789\n",
      "model saved.\n",
      "Iter 8, Train Loss= 0.388606, Train Acc= 0.83131, Val Loss= 0.395437, Val Acc= 0.82873\n",
      "model saved.\n",
      "Iter 9, Train Loss= 0.385910, Train Acc= 0.83223, Val Loss= 0.393151, Val Acc= 0.83026\n",
      "model saved.\n",
      "Iter 10, Train Loss= 0.383512, Train Acc= 0.83269, Val Loss= 0.391160, Val Acc= 0.83033\n",
      "model saved.\n"
     ]
    },
    {
     "ename": "KeyboardInterrupt",
     "evalue": "",
     "output_type": "error",
     "traceback": [
      "\u001b[0;31m---------------------------------------------------------------------------\u001b[0m",
      "\u001b[0;31mKeyboardInterrupt\u001b[0m                         Traceback (most recent call last)",
      "\u001b[0;32m<ipython-input-77-3c39232d454f>\u001b[0m in \u001b[0;36m<module>\u001b[0;34m()\u001b[0m\n\u001b[1;32m      1\u001b[0m \u001b[0;31m# cleaning_dataset, 1 hidden layer\u001b[0m\u001b[0;34m\u001b[0m\u001b[0;34m\u001b[0m\u001b[0m\n\u001b[0;32m----> 2\u001b[0;31m \u001b[0mval_acc\u001b[0m\u001b[0;34m,\u001b[0m\u001b[0mval_cost\u001b[0m\u001b[0;34m,\u001b[0m\u001b[0mtr_acc\u001b[0m\u001b[0;34m,\u001b[0m\u001b[0mtr_cost\u001b[0m \u001b[0;34m=\u001b[0m \u001b[0mtrain\u001b[0m\u001b[0;34m(\u001b[0m\u001b[0;34m)\u001b[0m\u001b[0;34m\u001b[0m\u001b[0m\n\u001b[0m",
      "\u001b[0;32m<ipython-input-76-667aaae814e8>\u001b[0m in \u001b[0;36mtrain\u001b[0;34m()\u001b[0m\n\u001b[1;32m     30\u001b[0m                 \u001b[0;31m######x_batch = x_train[s:e,].reshape((batch_size,n_steps,n_input))\u001b[0m\u001b[0;34m\u001b[0m\u001b[0;34m\u001b[0m\u001b[0m\n\u001b[1;32m     31\u001b[0m                 \u001b[0;31m# Run optimization op (backprop)\u001b[0m\u001b[0;34m\u001b[0m\u001b[0;34m\u001b[0m\u001b[0m\n\u001b[0;32m---> 32\u001b[0;31m                 \u001b[0msess\u001b[0m\u001b[0;34m.\u001b[0m\u001b[0mrun\u001b[0m\u001b[0;34m(\u001b[0m\u001b[0mtrain_op\u001b[0m\u001b[0;34m,\u001b[0m \u001b[0mfeed_dict\u001b[0m\u001b[0;34m=\u001b[0m\u001b[0;34m{\u001b[0m\u001b[0mX\u001b[0m\u001b[0;34m:\u001b[0m \u001b[0mx_train_reshaped\u001b[0m\u001b[0;34m[\u001b[0m\u001b[0ms\u001b[0m\u001b[0;34m:\u001b[0m\u001b[0me\u001b[0m\u001b[0;34m,\u001b[0m\u001b[0;34m:\u001b[0m\u001b[0;34m,\u001b[0m\u001b[0;34m:\u001b[0m\u001b[0;34m]\u001b[0m\u001b[0;34m,\u001b[0m \u001b[0mY\u001b[0m\u001b[0;34m:\u001b[0m \u001b[0my_train\u001b[0m\u001b[0;34m[\u001b[0m\u001b[0ms\u001b[0m\u001b[0;34m:\u001b[0m\u001b[0me\u001b[0m\u001b[0;34m]\u001b[0m\u001b[0;34m}\u001b[0m\u001b[0;34m)\u001b[0m\u001b[0;34m\u001b[0m\u001b[0m\n\u001b[0m\u001b[1;32m     33\u001b[0m                 \u001b[0;31m# Calculate batch accuracy\u001b[0m\u001b[0;34m\u001b[0m\u001b[0;34m\u001b[0m\u001b[0m\n\u001b[1;32m     34\u001b[0m                 \u001b[0;31m#train_acc = sess.run(accuracy, feed_dict={x: x_batch, y: y_train[s:e]})\u001b[0m\u001b[0;34m\u001b[0m\u001b[0;34m\u001b[0m\u001b[0m\n",
      "\u001b[0;32m/Users/Rutherford/anaconda2/envs/tensorflow/lib/python2.7/site-packages/tensorflow/python/client/session.pyc\u001b[0m in \u001b[0;36mrun\u001b[0;34m(self, fetches, feed_dict, options, run_metadata)\u001b[0m\n\u001b[1;32m    370\u001b[0m     \u001b[0;32mtry\u001b[0m\u001b[0;34m:\u001b[0m\u001b[0;34m\u001b[0m\u001b[0m\n\u001b[1;32m    371\u001b[0m       result = self._run(None, fetches, feed_dict, options_ptr,\n\u001b[0;32m--> 372\u001b[0;31m                          run_metadata_ptr)\n\u001b[0m\u001b[1;32m    373\u001b[0m       \u001b[0;32mif\u001b[0m \u001b[0mrun_metadata\u001b[0m\u001b[0;34m:\u001b[0m\u001b[0;34m\u001b[0m\u001b[0m\n\u001b[1;32m    374\u001b[0m         \u001b[0mproto_data\u001b[0m \u001b[0;34m=\u001b[0m \u001b[0mtf_session\u001b[0m\u001b[0;34m.\u001b[0m\u001b[0mTF_GetBuffer\u001b[0m\u001b[0;34m(\u001b[0m\u001b[0mrun_metadata_ptr\u001b[0m\u001b[0;34m)\u001b[0m\u001b[0;34m\u001b[0m\u001b[0m\n",
      "\u001b[0;32m/Users/Rutherford/anaconda2/envs/tensorflow/lib/python2.7/site-packages/tensorflow/python/client/session.pyc\u001b[0m in \u001b[0;36m_run\u001b[0;34m(self, handle, fetches, feed_dict, options, run_metadata)\u001b[0m\n\u001b[1;32m    634\u001b[0m     \u001b[0;32mtry\u001b[0m\u001b[0;34m:\u001b[0m\u001b[0;34m\u001b[0m\u001b[0m\n\u001b[1;32m    635\u001b[0m       results = self._do_run(handle, target_list, unique_fetches,\n\u001b[0;32m--> 636\u001b[0;31m                              feed_dict_string, options, run_metadata)\n\u001b[0m\u001b[1;32m    637\u001b[0m     \u001b[0;32mfinally\u001b[0m\u001b[0;34m:\u001b[0m\u001b[0;34m\u001b[0m\u001b[0m\n\u001b[1;32m    638\u001b[0m       \u001b[0;31m# The movers are no longer used. Delete them.\u001b[0m\u001b[0;34m\u001b[0m\u001b[0;34m\u001b[0m\u001b[0m\n",
      "\u001b[0;32m/Users/Rutherford/anaconda2/envs/tensorflow/lib/python2.7/site-packages/tensorflow/python/client/session.pyc\u001b[0m in \u001b[0;36m_do_run\u001b[0;34m(self, handle, target_list, fetch_list, feed_dict, options, run_metadata)\u001b[0m\n\u001b[1;32m    706\u001b[0m     \u001b[0;32mif\u001b[0m \u001b[0mhandle\u001b[0m \u001b[0;32mis\u001b[0m \u001b[0mNone\u001b[0m\u001b[0;34m:\u001b[0m\u001b[0;34m\u001b[0m\u001b[0m\n\u001b[1;32m    707\u001b[0m       return self._do_call(_run_fn, self._session, feed_dict, fetch_list,\n\u001b[0;32m--> 708\u001b[0;31m                            target_list, options, run_metadata)\n\u001b[0m\u001b[1;32m    709\u001b[0m     \u001b[0;32melse\u001b[0m\u001b[0;34m:\u001b[0m\u001b[0;34m\u001b[0m\u001b[0m\n\u001b[1;32m    710\u001b[0m       return self._do_call(_prun_fn, self._session, handle, feed_dict,\n",
      "\u001b[0;32m/Users/Rutherford/anaconda2/envs/tensorflow/lib/python2.7/site-packages/tensorflow/python/client/session.pyc\u001b[0m in \u001b[0;36m_do_call\u001b[0;34m(self, fn, *args)\u001b[0m\n\u001b[1;32m    713\u001b[0m   \u001b[0;32mdef\u001b[0m \u001b[0m_do_call\u001b[0m\u001b[0;34m(\u001b[0m\u001b[0mself\u001b[0m\u001b[0;34m,\u001b[0m \u001b[0mfn\u001b[0m\u001b[0;34m,\u001b[0m \u001b[0;34m*\u001b[0m\u001b[0margs\u001b[0m\u001b[0;34m)\u001b[0m\u001b[0;34m:\u001b[0m\u001b[0;34m\u001b[0m\u001b[0m\n\u001b[1;32m    714\u001b[0m     \u001b[0;32mtry\u001b[0m\u001b[0;34m:\u001b[0m\u001b[0;34m\u001b[0m\u001b[0m\n\u001b[0;32m--> 715\u001b[0;31m       \u001b[0;32mreturn\u001b[0m \u001b[0mfn\u001b[0m\u001b[0;34m(\u001b[0m\u001b[0;34m*\u001b[0m\u001b[0margs\u001b[0m\u001b[0;34m)\u001b[0m\u001b[0;34m\u001b[0m\u001b[0m\n\u001b[0m\u001b[1;32m    716\u001b[0m     \u001b[0;32mexcept\u001b[0m \u001b[0merrors\u001b[0m\u001b[0;34m.\u001b[0m\u001b[0mOpError\u001b[0m \u001b[0;32mas\u001b[0m \u001b[0me\u001b[0m\u001b[0;34m:\u001b[0m\u001b[0;34m\u001b[0m\u001b[0m\n\u001b[1;32m    717\u001b[0m       \u001b[0mmessage\u001b[0m \u001b[0;34m=\u001b[0m \u001b[0mcompat\u001b[0m\u001b[0;34m.\u001b[0m\u001b[0mas_text\u001b[0m\u001b[0;34m(\u001b[0m\u001b[0me\u001b[0m\u001b[0;34m.\u001b[0m\u001b[0mmessage\u001b[0m\u001b[0;34m)\u001b[0m\u001b[0;34m\u001b[0m\u001b[0m\n",
      "\u001b[0;32m/Users/Rutherford/anaconda2/envs/tensorflow/lib/python2.7/site-packages/tensorflow/python/client/session.pyc\u001b[0m in \u001b[0;36m_run_fn\u001b[0;34m(session, feed_dict, fetch_list, target_list, options, run_metadata)\u001b[0m\n\u001b[1;32m    695\u001b[0m         return tf_session.TF_Run(session, options,\n\u001b[1;32m    696\u001b[0m                                  \u001b[0mfeed_dict\u001b[0m\u001b[0;34m,\u001b[0m \u001b[0mfetch_list\u001b[0m\u001b[0;34m,\u001b[0m \u001b[0mtarget_list\u001b[0m\u001b[0;34m,\u001b[0m\u001b[0;34m\u001b[0m\u001b[0m\n\u001b[0;32m--> 697\u001b[0;31m                                  status, run_metadata)\n\u001b[0m\u001b[1;32m    698\u001b[0m \u001b[0;34m\u001b[0m\u001b[0m\n\u001b[1;32m    699\u001b[0m     \u001b[0;32mdef\u001b[0m \u001b[0m_prun_fn\u001b[0m\u001b[0;34m(\u001b[0m\u001b[0msession\u001b[0m\u001b[0;34m,\u001b[0m \u001b[0mhandle\u001b[0m\u001b[0;34m,\u001b[0m \u001b[0mfeed_dict\u001b[0m\u001b[0;34m,\u001b[0m \u001b[0mfetch_list\u001b[0m\u001b[0;34m)\u001b[0m\u001b[0;34m:\u001b[0m\u001b[0;34m\u001b[0m\u001b[0m\n",
      "\u001b[0;31mKeyboardInterrupt\u001b[0m: "
     ]
    }
   ],
   "source": [
    "# cleaning_dataset, 1 hidden layer\n",
    "val_acc,val_cost,tr_acc,tr_cost = train()"
   ]
  },
  {
   "cell_type": "code",
   "execution_count": null,
   "metadata": {
    "collapsed": true
   },
   "outputs": [],
   "source": []
  },
  {
   "cell_type": "code",
   "execution_count": 65,
   "metadata": {
    "collapsed": true
   },
   "outputs": [],
   "source": [
    "# better dataset, 16 layers\n",
    "raw_x_test = X_in[indices[_validation_test_split_idx:_train_test_split_idx]]\n",
    "preds = predict(raw_x_test[:1000])\n",
    "y_test_res = np.argmax(y_test,1)+1\n",
    "no_errors = np.where(np.asarray(preds)=='No error')[0].tolist()\n",
    "for i in no_errors:\n",
    "    preds[i] = 1"
   ]
  },
  {
   "cell_type": "code",
   "execution_count": 66,
   "metadata": {
    "collapsed": false
   },
   "outputs": [
    {
     "data": {
      "text/plain": [
       "array([[552,  65],\n",
       "       [120, 263]])"
      ]
     },
     "execution_count": 66,
     "metadata": {},
     "output_type": "execute_result"
    }
   ],
   "source": [
    "confusion_matrix(y_test_res[:1000],preds)"
   ]
  },
  {
   "cell_type": "code",
   "execution_count": null,
   "metadata": {
    "collapsed": true
   },
   "outputs": [],
   "source": []
  },
  {
   "cell_type": "code",
   "execution_count": 22,
   "metadata": {
    "collapsed": false
   },
   "outputs": [
    {
     "data": {
      "image/png": "[encoded data removed]",
      "text/plain": [
       "<matplotlib.figure.Figure at 0x2c3bc2710>"
      ]
     },
     "metadata": {},
     "output_type": "display_data"
    }
   ],
   "source": [
    "# one hidden layer\n",
    "fig = plt.figure()\n",
    "tr_plot, = plt.plot(range(75),tr_cost[1:],label='train')\n",
    "val_plot, = plt.plot(range(75),val_cost[1:],label='validation')\n",
    "plt.legend(handles=[tr_plot, val_plot]);"
   ]
  },
  {
   "cell_type": "code",
   "execution_count": 23,
   "metadata": {
    "collapsed": false
   },
   "outputs": [
    {
     "data": {
      "image/png": "[encoded data removed]",
      "text/plain": [
       "<matplotlib.figure.Figure at 0x2c2c9a490>"
      ]
     },
     "metadata": {},
     "output_type": "display_data"
    }
   ],
   "source": [
    "# one hidden layer \n",
    "fig = plt.figure()\n",
    "tr_plot, = plt.plot(range(75),tr_acc[1:],label='train')\n",
    "val_plot, = plt.plot(range(75),val_acc[1:],label='validation')\n",
    "plt.legend(handles=[tr_plot, val_plot],loc=4);"
   ]
  },
  {
   "cell_type": "code",
   "execution_count": 27,
   "metadata": {
    "collapsed": true
   },
   "outputs": [],
   "source": [
    "from sklearn.metrics import confusion_matrix"
   ]
  },
  {
   "cell_type": "code",
   "execution_count": null,
   "metadata": {
    "collapsed": true
   },
   "outputs": [],
   "source": [
    "raw_x_test = X_in[indices[_validation_test_split_idx:_train_test_split_idx]]\n",
    "preds = predict(raw_x_test[:1000])\n",
    "y_test_res = np.argmax(y_test,1)+1"
   ]
  },
  {
   "cell_type": "code",
   "execution_count": 45,
   "metadata": {
    "collapsed": false
   },
   "outputs": [],
   "source": [
    "no_errors = np.where(np.asarray(preds)=='No error')[0].tolist()"
   ]
  },
  {
   "cell_type": "code",
   "execution_count": 46,
   "metadata": {
    "collapsed": false
   },
   "outputs": [],
   "source": [
    "for i in no_errors:\n",
    "    preds[i] = 1"
   ]
  },
  {
   "cell_type": "code",
   "execution_count": 47,
   "metadata": {
    "collapsed": false
   },
   "outputs": [
    {
     "data": {
      "text/plain": [
       "array([[738,   5],\n",
       "       [248,   9]])"
      ]
     },
     "execution_count": 47,
     "metadata": {},
     "output_type": "execute_result"
    }
   ],
   "source": [
    "confusion_matrix(y_test_res[:1000],preds)"
   ]
  },
  {
   "cell_type": "code",
   "execution_count": null,
   "metadata": {
    "collapsed": true
   },
   "outputs": [],
   "source": []
  },
  {
   "cell_type": "code",
   "execution_count": null,
   "metadata": {
    "collapsed": true
   },
   "outputs": [],
   "source": [
    "# forget .8"
   ]
  },
  {
   "cell_type": "code",
   "execution_count": 266,
   "metadata": {
    "collapsed": false
   },
   "outputs": [
    {
     "data": {
      "image/png": "[encoded data removed]",
      "text/plain": [
       "<matplotlib.figure.Figure at 0x2c4f72150>"
      ]
     },
     "metadata": {},
     "output_type": "display_data"
    }
   ],
   "source": [
    "#softmax x ent logits, 128 hidden (16 before)\n",
    "fig = plt.figure()\n",
    "tr_plot, = plt.plot(range(75),tr_cost[1:],label='train')\n",
    "val_plot, = plt.plot(range(75),val_cost[1:],label='validation')\n",
    "plt.legend(handles=[tr_plot, val_plot]);"
   ]
  },
  {
   "cell_type": "code",
   "execution_count": 267,
   "metadata": {
    "collapsed": false
   },
   "outputs": [
    {
     "data": {
      "image/png": "[encoded data removed]",
      "text/plain": [
       "<matplotlib.figure.Figure at 0x2c2409790>"
      ]
     },
     "metadata": {},
     "output_type": "display_data"
    }
   ],
   "source": [
    "fig = plt.figure()\n",
    "tr_plot, = plt.plot(range(75),tr_acc[1:],label='train')\n",
    "val_plot, = plt.plot(range(75),val_acc[1:],label='validation')\n",
    "plt.legend(handles=[tr_plot, val_plot],loc=4);"
   ]
  },
  {
   "cell_type": "code",
   "execution_count": null,
   "metadata": {
    "collapsed": true
   },
   "outputs": [],
   "source": []
  },
  {
   "cell_type": "code",
   "execution_count": null,
   "metadata": {
    "collapsed": true
   },
   "outputs": [],
   "source": []
  },
  {
   "cell_type": "code",
   "execution_count": 126,
   "metadata": {
    "collapsed": false
   },
   "outputs": [
    {
     "data": {
      "image/png": "[encoded data removed]",
      "text/plain": [
       "<matplotlib.figure.Figure at 0x2c5598750>"
      ]
     },
     "metadata": {},
     "output_type": "display_data"
    }
   ],
   "source": [
    "fig = plt.figure()\n",
    "tr_plot, = plt.plot(range(1000),tr_cost[1:],label='train')\n",
    "val_plot, = plt.plot(range(1000),val_cost[1:],label='validation')\n",
    "plt.legend(handles=[tr_plot, val_plot]);"
   ]
  },
  {
   "cell_type": "code",
   "execution_count": 129,
   "metadata": {
    "collapsed": false
   },
   "outputs": [
    {
     "data": {
      "image/png": "[encoded data removed]",
      "text/plain": [
       "<matplotlib.figure.Figure at 0x2c4e8ce50>"
      ]
     },
     "metadata": {},
     "output_type": "display_data"
    }
   ],
   "source": [
    "fig = plt.figure()\n",
    "tr_plot, = plt.plot(range(1000),tr_acc[1:],label='train')\n",
    "val_plot, = plt.plot(range(1000),val_acc[1:],label='validation')\n",
    "plt.legend(handles=[tr_plot, val_plot],loc=4);"
   ]
  },
  {
   "cell_type": "code",
   "execution_count": null,
   "metadata": {
    "collapsed": true
   },
   "outputs": [],
   "source": []
  },
  {
   "cell_type": "code",
   "execution_count": 25,
   "metadata": {
    "collapsed": false
   },
   "outputs": [],
   "source": [
    "def predict(numpy_file):\n",
    "    predictions = []\n",
    "    # build graph and initialize session\n",
    "    tf.reset_default_graph()\n",
    "    #42 seconds next step\n",
    "    (X,_),_,_,pred_y,_,_,saver = build_graph()\n",
    "    \n",
    "    with tf.Session() as sess:\n",
    "        # 18 seconds\n",
    "        sess.run(tf.initialize_all_variables())\n",
    "        saver.restore(sess,'/Users/Rutherford/Desktop/rnn models/model.ckpt')\n",
    "        # generate calculations from 2d array of input strings\n",
    "        for row in numpy_file:\n",
    "            str_1,str_2 = row[0],row[1]\n",
    "\n",
    "            # strings identical\n",
    "            if str_1 == str_2:\n",
    "                predictions.append('No error')\n",
    "                continue\n",
    "\n",
    "            # model prediction\n",
    "            try:\n",
    "                #tf.arg_max(pred_y,1),\n",
    "                pred = sess.run([tf.argmax(pred_y,1)],\n",
    "                                feed_dict=\\\n",
    "                                {X: np.asarray(_get_dist(str_1,str_2)).reshape([-1,n_steps,n_input])})\n",
    "                #print(pred)\n",
    "                #predictions.append(str(pred[0][0]+1))\n",
    "                predictions.append(pred[0][0]+1)\n",
    "\n",
    "            # can't predict\n",
    "            except:\n",
    "                predictions.append('Unknown')\n",
    "    \n",
    "    return predictions\n",
    "    #print(','.join(predictions))\n"
   ]
  },
  {
   "cell_type": "code",
   "execution_count": 657,
   "metadata": {
    "collapsed": true
   },
   "outputs": [],
   "source": [
    "raw_x_test = X_in[indices[_validation_test_split_idx:_train_test_split_idx]]"
   ]
  },
  {
   "cell_type": "code",
   "execution_count": 658,
   "metadata": {
    "collapsed": false
   },
   "outputs": [],
   "source": [
    "preds = predict(raw_x_test[:1000])"
   ]
  },
  {
   "cell_type": "code",
   "execution_count": 663,
   "metadata": {
    "collapsed": false
   },
   "outputs": [
    {
     "data": {
      "text/plain": [
       "array([[677,  66],\n",
       "       [136, 121]])"
      ]
     },
     "execution_count": 663,
     "metadata": {},
     "output_type": "execute_result"
    }
   ],
   "source": [
    "# spaces removed dataset\n",
    "confusion_matrix(y_test_res[:1000],preds)"
   ]
  },
  {
   "cell_type": "code",
   "execution_count": null,
   "metadata": {
    "collapsed": true
   },
   "outputs": [],
   "source": []
  },
  {
   "cell_type": "code",
   "execution_count": 261,
   "metadata": {
    "collapsed": false
   },
   "outputs": [
    {
     "data": {
      "text/plain": [
       "array([[133, 750],\n",
       "       [ 11, 106]])"
      ]
     },
     "execution_count": 261,
     "metadata": {},
     "output_type": "execute_result"
    }
   ],
   "source": [
    "# negative ratio 75 runs\n",
    "confusion_matrix(y_test_res[:1000],preds)"
   ]
  },
  {
   "cell_type": "code",
   "execution_count": null,
   "metadata": {
    "collapsed": true
   },
   "outputs": [],
   "source": [
    "#tf.less"
   ]
  },
  {
   "cell_type": "code",
   "execution_count": 242,
   "metadata": {
    "collapsed": false
   },
   "outputs": [
    {
     "data": {
      "text/plain": [
       "array([[ 30, 853],\n",
       "       [  5, 112]])"
      ]
     },
     "execution_count": 242,
     "metadata": {},
     "output_type": "execute_result"
    }
   ],
   "source": [
    "# next negative 1-ratio\n",
    "confusion_matrix(y_test_res[:1000],preds)"
   ]
  },
  {
   "cell_type": "code",
   "execution_count": 236,
   "metadata": {
    "collapsed": false
   },
   "outputs": [
    {
     "data": {
      "text/plain": [
       "array([[149, 734],\n",
       "       [ 15, 102]])"
      ]
     },
     "execution_count": 236,
     "metadata": {},
     "output_type": "execute_result"
    }
   ],
   "source": [
    "# next negative ratio\n",
    "confusion_matrix(y_test_res[:1000],preds)"
   ]
  },
  {
   "cell_type": "code",
   "execution_count": 230,
   "metadata": {
    "collapsed": false
   },
   "outputs": [
    {
     "data": {
      "text/plain": [
       "array([[883,   0],\n",
       "       [111,   6]])"
      ]
     },
     "execution_count": 230,
     "metadata": {},
     "output_type": "execute_result"
    }
   ],
   "source": [
    "# next 1-ratio\n",
    "confusion_matrix(y_test_res[:1000],preds)"
   ]
  },
  {
   "cell_type": "code",
   "execution_count": 224,
   "metadata": {
    "collapsed": false
   },
   "outputs": [
    {
     "data": {
      "text/plain": [
       "array([[881,   2],\n",
       "       [115,   2]])"
      ]
     },
     "execution_count": 224,
     "metadata": {},
     "output_type": "execute_result"
    }
   ],
   "source": [
    "# ratio weight\n",
    "confusion_matrix(y_test_res[:1000],preds)"
   ]
  },
  {
   "cell_type": "code",
   "execution_count": 216,
   "metadata": {
    "collapsed": false
   },
   "outputs": [
    {
     "data": {
      "text/plain": [
       "array([[882,   1],\n",
       "       [117,   0]])"
      ]
     },
     "execution_count": 216,
     "metadata": {},
     "output_type": "execute_result"
    }
   ],
   "source": [
    "# 1.05 weight 20 runs\n",
    "confusion_matrix(y_test_res[:1000],preds)"
   ]
  },
  {
   "cell_type": "code",
   "execution_count": 209,
   "metadata": {
    "collapsed": false
   },
   "outputs": [
    {
     "data": {
      "text/plain": [
       "array([[883,   0],\n",
       "       [117,   0]])"
      ]
     },
     "execution_count": 209,
     "metadata": {},
     "output_type": "execute_result"
    }
   ],
   "source": [
    "# .05 weight 20 runs\n",
    "confusion_matrix(y_test_res[:1000],preds)"
   ]
  },
  {
   "cell_type": "code",
   "execution_count": 203,
   "metadata": {
    "collapsed": false
   },
   "outputs": [
    {
     "data": {
      "text/plain": [
       "array([[ 93, 790],\n",
       "       [ 10, 107]])"
      ]
     },
     "execution_count": 203,
     "metadata": {},
     "output_type": "execute_result"
    }
   ],
   "source": [
    "# -.05 weight 20 runs\n",
    "confusion_matrix(y_test_res[:1000],preds)"
   ]
  },
  {
   "cell_type": "code",
   "execution_count": 193,
   "metadata": {
    "collapsed": false
   },
   "outputs": [
    {
     "data": {
      "text/plain": [
       "array([[ 14, 869],\n",
       "       [  3, 114]])"
      ]
     },
     "execution_count": 193,
     "metadata": {},
     "output_type": "execute_result"
    }
   ],
   "source": [
    "#-3.5 weight first run (accuracy goes down, unsurprisingly)\n",
    "confusion_matrix(y_test_res[:1000],preds)"
   ]
  },
  {
   "cell_type": "code",
   "execution_count": 178,
   "metadata": {
    "collapsed": false
   },
   "outputs": [
    {
     "data": {
      "text/plain": [
       "array([[865,  18],\n",
       "       [ 78,  39]])"
      ]
     },
     "execution_count": 178,
     "metadata": {},
     "output_type": "execute_result"
    }
   ],
   "source": [
    "#other weighted\n",
    "confusion_matrix(y_test_res[:1000],preds)"
   ]
  },
  {
   "cell_type": "code",
   "execution_count": 169,
   "metadata": {
    "collapsed": false
   },
   "outputs": [
    {
     "data": {
      "text/plain": [
       "array([[866,  17],\n",
       "       [ 81,  36]])"
      ]
     },
     "execution_count": 169,
     "metadata": {},
     "output_type": "execute_result"
    }
   ],
   "source": [
    "# weighted\n",
    "confusion_matrix(y_test_res[:1000],preds)"
   ]
  },
  {
   "cell_type": "code",
   "execution_count": 152,
   "metadata": {
    "collapsed": false
   },
   "outputs": [
    {
     "data": {
      "text/plain": [
       "array([[867,  16],\n",
       "       [ 79,  38]])"
      ]
     },
     "execution_count": 152,
     "metadata": {},
     "output_type": "execute_result"
    }
   ],
   "source": [
    "#978\n",
    "confusion_matrix(y_test_res[:1000],preds)"
   ]
  },
  {
   "cell_type": "code",
   "execution_count": 153,
   "metadata": {
    "collapsed": false
   },
   "outputs": [
    {
     "data": {
      "text/plain": [
       "(array([ 24,  34,  41,  44,  45,  60,  77,  87,  94, 108, 127, 149, 168,\n",
       "        176, 185, 187, 191, 218, 222, 253, 279, 290, 305, 307, 313, 324,\n",
       "        330, 346, 358, 375, 402, 417, 421, 440, 441, 459, 497, 504, 510,\n",
       "        551, 562, 578, 605, 619, 625, 626, 641, 649, 654, 657, 673, 678,\n",
       "        692, 701, 733, 750, 757, 762, 787, 802, 817, 820, 821, 825, 831,\n",
       "        840, 855, 859, 876, 880, 909, 933, 942, 943, 947, 954, 975, 977, 981]),)"
      ]
     },
     "execution_count": 153,
     "metadata": {},
     "output_type": "execute_result"
    }
   ],
   "source": [
    "np.where((np.asarray(preds)==1) & (y_test_res[:1000]==2))"
   ]
  },
  {
   "cell_type": "code",
   "execution_count": null,
   "metadata": {
    "collapsed": true
   },
   "outputs": [],
   "source": []
  },
  {
   "cell_type": "code",
   "execution_count": 54,
   "metadata": {
    "collapsed": true
   },
   "outputs": [],
   "source": [
    "tester = np.genfromtxt('/Users/Rutherford/Desktop/data/data.csv',dtype='str',delimiter=',')"
   ]
  },
  {
   "cell_type": "code",
   "execution_count": 55,
   "metadata": {
    "collapsed": false
   },
   "outputs": [
    {
     "name": "stdout",
     "output_type": "stream",
     "text": [
      "2,1,1,1,2,1,2,No error,1,1,1,1,1,No error,1,1,1,1,1,1,1,1,1,1,1,1,1,1\n"
     ]
    }
   ],
   "source": [
    "predict(tester)"
   ]
  },
  {
   "cell_type": "code",
   "execution_count": 120,
   "metadata": {
    "collapsed": true
   },
   "outputs": [],
   "source": [
    "from sklearn.metrics import confusion_matrix\n",
    "\n",
    "def check_results(y_test,result_list):\n",
    "    \"\"\"\n",
    "    Prints a confusion matrix of performance on the test set,\n",
    "    and instantiates lists of True Positive, True Negative,\n",
    "    False Positive, and False Negative for inspection as\n",
    "    self._TP, self._TN, self._FP, self._FN.\n",
    "    \"\"\"\n",
    "\n",
    "    # print confusion matrix\n",
    "    #true_y_labels = np.array(y_test[:,1])\n",
    "    true_y_labels = np.argmax(y_test,1)+1\n",
    "    print('\\t\\tPredicted:')\n",
    "    print('\\t\\tmin. maj.')\n",
    "    print('Actual:\\t min.',\n",
    "          confusion_matrix(true_y_labels,result_list)[0])\n",
    "    print('    \\t maj.',\n",
    "          confusion_matrix(true_y_labels,result_list)[1])\n",
    "\n",
    "    # identify predicted and true positives and negatives\n",
    "    predicted_pos = np.where(result_list[0]==1)\n",
    "    predicted_neg = np.where(result_list[0]==0)\n",
    "    actual_pos = np.where(np.argmax(y_test,1)==1)\n",
    "    actual_neg = np.where(np.argmax(y_test,1)==0)\n",
    "\n",
    "    # indices of shuffled and split data (just y_test)\n",
    "    true_pos = np.intersect1d(predicted_pos,actual_pos).tolist()\n",
    "    true_neg = np.intersect1d(predicted_neg,actual_neg).tolist()\n",
    "    false_pos = np.intersect1d(predicted_pos,actual_neg).tolist()\n",
    "    false_neg = np.intersect1d(predicted_neg,actual_pos).tolist()\n",
    "    y_indices = indices[_validation_test_split_idx:\n",
    "                                  _train_test_split_idx]\n",
    "\n",
    "    raw_X = X_in\n",
    "    \n",
    "    # create lists of true and false positives and negatives\n",
    "    TP = [list(raw_X[y_indices[i]]) for i in true_pos]\n",
    "    TN = [list(raw_X[y_indices[i]]) for i in true_neg]\n",
    "    FP = [list(raw_X[y_indices[i]]) for i in false_pos]\n",
    "    FN = [list(raw_X[y_indices[i]]) for i in false_neg]\n"
   ]
  },
  {
   "cell_type": "code",
   "execution_count": 105,
   "metadata": {
    "collapsed": true
   },
   "outputs": [],
   "source": []
  },
  {
   "cell_type": "code",
   "execution_count": 106,
   "metadata": {
    "collapsed": true
   },
   "outputs": [],
   "source": [
    "res = [1,1,1,1,1,1,1,1,1,1,1,1,1,2,1,1,1,1,1,1,1,1,1,1,1,1,1,1,1,1,1,1,1,1,1,1,1,1,1,1,1,1,1,2,1,1,1,1,1,1,1,1,1,2,1,1,1,2,2,1,1,1,1,2,1,1,1,1,1,1,1,1,1,1,1,1,1,1,1,2,1,1,1,1,1,1,1,1,1,1,1,1,1,1,1,1,1,1,1,1,1,1,1,1,1,1,1,1,1,1,1,1,1,1,1,1,1,1,1,1,2,1,1,1,1,1,1,2,1,1,1,1,1,1,1,1,1,1,1,1,1,1,1,1,1,1,1,1,1,1,1,1,1,1,1,1,1,1,1,1,1,1,1,1,1,1,1,1,1,1,2,1,1,1,2,1,1,2,1,1,1,1,1,1,1,1,1,1,1,1,1,1,1,2,1,1,1,1,1,1,1,1,1,1,1,1,1,1,1,1,1,1,1,1,1,1,1,1,1,2,1,1,1,1,1,1,1,1,1,1,2,1,1,1,1,1,1,1,1,1,1,1,1,1,1,1,1,1,1,2,1,2,1,1,1,1,1,1,1,1,1,1,1,1,1,1,1,1,1,1,1,2,1,1,1,1,1,1,1,1,1,1,1,1,1,1,1,1,1,1,1,1,1,1,1,1,1,1,1,1,1,1,1,1,1,1,1,1,1,1,1,1,1,1,1,1,1,1,1,2,1,1,1,1,1,1,1,1,2,1,1,1,1,1,1,1,2,1,1,1,1,1,1,1,1,2,1,1,1,2,1,1,1,1,1,1,1,1,1,1,1,1,1,1,1,1,1,1,2,1,1,1,1,1,1,1,1,1,2,1,1,1,1,2,1,1,1,1,1,1,1,1,1,1,1,1,1,1,1,1,1,1,1,1,1,1,1,2,1,1,1,1,1,1,1,1,1,1,1,1,2,1,1,1,1,1,1,2,1,1,1,1,1,1,1,1,1,1,1,1,2,1,1,1,1,1,1,1,1,1,1,1,2,1,1,1,1,1,1,1,1,1,2,1,1,1,1,1,1,1,1,1,1,1,1,1,1,1,1,1,1,1,1,1,2,1,1,1,1,1,1,1,1,1,1,1,1,1,1,1]"
   ]
  },
  {
   "cell_type": "code",
   "execution_count": 29,
   "metadata": {
    "collapsed": false
   },
   "outputs": [],
   "source": [
    "y_test_res = np.argmax(y_test,1)+1"
   ]
  },
  {
   "cell_type": "code",
   "execution_count": 102,
   "metadata": {
    "collapsed": false
   },
   "outputs": [
    {
     "data": {
      "text/plain": [
       "array([[432,  10],\n",
       "       [ 35,  23]])"
      ]
     },
     "execution_count": 102,
     "metadata": {},
     "output_type": "execute_result"
    }
   ],
   "source": [
    "confusion_matrix(y_test_res[:500],res)"
   ]
  },
  {
   "cell_type": "code",
   "execution_count": null,
   "metadata": {
    "collapsed": true
   },
   "outputs": [],
   "source": []
  },
  {
   "cell_type": "code",
   "execution_count": null,
   "metadata": {
    "collapsed": true
   },
   "outputs": [],
   "source": []
  },
  {
   "cell_type": "code",
   "execution_count": null,
   "metadata": {
    "collapsed": true
   },
   "outputs": [],
   "source": []
  },
  {
   "cell_type": "code",
   "execution_count": null,
   "metadata": {
    "collapsed": true
   },
   "outputs": [],
   "source": []
  },
  {
   "cell_type": "code",
   "execution_count": 1,
   "metadata": {
    "collapsed": false
   },
   "outputs": [
    {
     "ename": "NameError",
     "evalue": "name 'tf' is not defined",
     "output_type": "error",
     "traceback": [
      "\u001b[0;31m---------------------------------------------------------------------------\u001b[0m",
      "\u001b[0;31mNameError\u001b[0m                                 Traceback (most recent call last)",
      "\u001b[0;32m<ipython-input-1-303c00781b33>\u001b[0m in \u001b[0;36m<module>\u001b[0;34m()\u001b[0m\n\u001b[1;32m      1\u001b[0m \u001b[0;31m# to see if there's a difference when n_input and n_steps are flipped\u001b[0m\u001b[0;34m\u001b[0m\u001b[0;34m\u001b[0m\u001b[0m\n\u001b[0;32m----> 2\u001b[0;31m \u001b[0mtf\u001b[0m\u001b[0;34m.\u001b[0m\u001b[0mreset_default_graph\u001b[0m\u001b[0;34m(\u001b[0m\u001b[0;34m)\u001b[0m\u001b[0;34m\u001b[0m\u001b[0m\n\u001b[0m\u001b[1;32m      3\u001b[0m '''\n\u001b[1;32m      4\u001b[0m \u001b[0mTo\u001b[0m \u001b[0mclassify\u001b[0m \u001b[0mimages\u001b[0m \u001b[0musing\u001b[0m \u001b[0ma\u001b[0m \u001b[0mrecurrent\u001b[0m \u001b[0mneural\u001b[0m \u001b[0mnetwork\u001b[0m\u001b[0;34m,\u001b[0m \u001b[0mwe\u001b[0m \u001b[0mconsider\u001b[0m \u001b[0mevery\u001b[0m \u001b[0mimage\u001b[0m\u001b[0;34m\u001b[0m\u001b[0m\n\u001b[1;32m      5\u001b[0m \u001b[0mrow\u001b[0m \u001b[0;32mas\u001b[0m \u001b[0ma\u001b[0m \u001b[0msequence\u001b[0m \u001b[0mof\u001b[0m \u001b[0mpixels\u001b[0m\u001b[0;34m.\u001b[0m \u001b[0mBecause\u001b[0m \u001b[0mMNIST\u001b[0m \u001b[0mimage\u001b[0m \u001b[0mshape\u001b[0m \u001b[0;32mis\u001b[0m \u001b[0;36m28\u001b[0m\u001b[0;34m*\u001b[0m\u001b[0;36m28\u001b[0m\u001b[0mpx\u001b[0m\u001b[0;34m,\u001b[0m \u001b[0mwe\u001b[0m \u001b[0mwill\u001b[0m \u001b[0mthen\u001b[0m\u001b[0;34m\u001b[0m\u001b[0m\n",
      "\u001b[0;31mNameError\u001b[0m: name 'tf' is not defined"
     ]
    }
   ],
   "source": [
    "# to see if there's a difference when n_input and n_steps are flipped\n",
    "tf.reset_default_graph()\n",
    "'''\n",
    "To classify images using a recurrent neural network, we consider every image\n",
    "row as a sequence of pixels. Because MNIST image shape is 28*28px, we will then\n",
    "handle 28 sequences of 28 steps for every sample.\n",
    "'''\n",
    "\n",
    "# Parameters\n",
    "learning_rate = 0.001\n",
    "training_iters = 10#0000\n",
    "batch_size = 64\n",
    "display_step = 1\n",
    "\n",
    "# Network Parameters\n",
    "n_input = 608 # MNIST data input (img shape: 28*28)\n",
    "n_steps = 1 # timesteps\n",
    "num_hidden = 4#128 # hidden layer num of features\n",
    "n_classes = 2 # MNIST total classes (0-9 digits)\n",
    "\n",
    "# tf Graph input\n",
    "x = tf.placeholder(\"float\", [None, n_steps, n_input])\n",
    "y = tf.placeholder(\"float\", [None, n_classes])\n",
    "\n",
    "# Define weights\n",
    "weights = {\n",
    "    'out': tf.Variable(tf.random_normal([num_hidden, n_classes]))\n",
    "}\n",
    "biases = {\n",
    "    'out': tf.Variable(tf.random_normal([n_classes]))\n",
    "}\n",
    "start = time()\n",
    "pred = RNN(x, weights, biases)\n",
    "\n",
    "# Define loss and optimizer\n",
    "cost = tf.reduce_mean(tf.nn.softmax_cross_entropy_with_logits(pred, y))\n",
    "optimizer = tf.train.AdamOptimizer(learning_rate=learning_rate).minimize(cost)\n",
    "\n",
    "# Evaluate model\n",
    "correct_pred = tf.equal(tf.argmax(pred,1), tf.argmax(y,1))\n",
    "accuracy = tf.reduce_mean(tf.cast(correct_pred, tf.float32))\n",
    "\n",
    "# Initializing the variables\n",
    "init = tf.initialize_all_variables()\n",
    "\n",
    "# Launch the graph\n",
    "with tf.Session() as sess:\n",
    "    sess.run(init)\n",
    "    print('variables initialized ',time()-start)\n",
    "    start_end = zip(range(0,len(x_train),batch_size),\n",
    "               range(batch_size,len(x_train)+1,\n",
    "                     batch_size))\n",
    "    # Keep training until reach max iterations\n",
    "    #while step * batch_size < training_iters:\n",
    "    \n",
    "    x_batch = x_train.reshape((-1,n_steps,n_input))\n",
    "    print('x batch created ',time()-start)\n",
    "    for pass_i in range(training_iters):\n",
    "        for (s,e) in start_end:\n",
    "            if str(s)[-2:] == '00':\n",
    "                print(s,time()-start)\n",
    "        \n",
    "            \"\"\"batch_x, batch_y = mnist.train.next_batch(batch_size)\n",
    "\n",
    "            # Reshape data to get 28 seq of 28 elements\n",
    "            batch_x = batch_x.reshape((batch_size, n_steps, n_input))\"\"\"\n",
    "            \n",
    "            ######x_batch = x_train[s:e,].reshape((batch_size,n_steps,n_input))\n",
    "            # Run optimization op (backprop)\n",
    "            sess.run(optimizer, feed_dict={x: x_batch[s:e,:,:], y: y_train[s:e]})\n",
    "            # Calculate batch accuracy\n",
    "            #train_acc = sess.run(accuracy, feed_dict={x: x_batch, y: y_train[s:e]})\n",
    "            # Calculate batch loss\n",
    "            #train_loss = sess.run(cost, feed_dict={x: x_batch, y: y_train[s:e]})\n",
    "            sess.run(accuracy, feed_dict={x: x_batch[s:e,:,:], y: y_train[s:e]})\n",
    "        print('done minibatching')\n",
    "        loss = sess.run(cost, feed_dict={x: x_batch, y: y_train})\n",
    "        acc = sess.run(accuracy, feed_dict={x: x_batch, y: y_train})\n",
    "        print(\"Iter \" + str(pass_i) + \", Train Loss= \" + \\\n",
    "              \"{:.6f}\".format(loss) + \", Train Accuracy= \" + \\\n",
    "              \"{:.5f}\".format(acc))\n",
    "        #if pass_i % display_step == 0:\n",
    "        #    x_test_correct_shape = x_train.reshape((-1, n_steps, n_input))\n",
    "        #    # Calculate batch accuracy\n",
    "        #    acc = sess.run(accuracy, feed_dict={x: x_test_correct_shape, y: y_test})\n",
    "        #    # Calculate batch loss\n",
    "        #    loss = sess.run(cost, feed_dict={x: x_test_correct_shape, y: y_test})\n",
    "        #    print(\"Iter \" + str(pass_i) + \", Test Loss= \" + \\\n",
    "        #          \"{:.6f}\".format(loss) + \", Test Accuracy= \" + \\\n",
    "        #          \"{:.5f}\".format(acc))\n",
    "    print(\"Optimization Finished!\")"
   ]
  },
  {
   "cell_type": "code",
   "execution_count": null,
   "metadata": {
    "collapsed": true
   },
   "outputs": [],
   "source": []
  },
  {
   "cell_type": "code",
   "execution_count": null,
   "metadata": {
    "collapsed": true
   },
   "outputs": [],
   "source": []
  },
  {
   "cell_type": "code",
   "execution_count": null,
   "metadata": {
    "collapsed": true
   },
   "outputs": [],
   "source": []
  },
  {
   "cell_type": "code",
   "execution_count": null,
   "metadata": {
    "collapsed": true
   },
   "outputs": [],
   "source": []
  },
  {
   "cell_type": "code",
   "execution_count": null,
   "metadata": {
    "collapsed": true
   },
   "outputs": [],
   "source": [
    "# inputs and outputs (latter are one-hot vectors)\n",
    "X = tf.placeholder(tf.float32, shape=[None,608])#612])#12])#\"\"\"612])\"\"\"\n",
    "Y = tf.placeholder(tf.float32, shape=[None,2])\n",
    "lr = tf.placeholder(tf.float32)\n",
    "glob_step = tf.Variable(0,dtype=tf.float32,trainable=False)\n",
    "\n",
    "weight_shape1 = [608,256]#612 #\"\"\"12\"\"\"\n",
    "weight_shape2 = [256,128]\n",
    "weight_shape3 = [128,16]\n",
    "weight_shape4 = [16,2]\n",
    "\n",
    "[n_inputs1,n_outputs1,n_inputs3,n_outputs3,n_outputs_final] =             weight_shape1[0],weight_shape1[1],weight_shape3[0],             weight_shape3[1],weight_shape4[1]\n",
    "\n",
    "init_range1 = tf.sqrt(6.0/(n_inputs1+n_outputs1))\n",
    "init_range2 = tf.sqrt(6.0/(n_outputs1+n_inputs3))\n",
    "init_range3 = tf.sqrt(6.0/(n_inputs3+n_outputs3))\n",
    "init_range4 = tf.sqrt(6.0/(n_outputs3+n_outputs_final))\n",
    "w1 = tf.Variable(tf.random_uniform(weight_shape1,\n",
    "                                   -init_range1,init_range1),name='w1')\n",
    "w2 = tf.Variable(tf.random_uniform(weight_shape2,\n",
    "                                   -init_range2,init_range2),name='w2')\n",
    "w3 = tf.Variable(tf.random_uniform(weight_shape3,\n",
    "                                   -init_range3,init_range3),name='w3')\n",
    "w4 = tf.Variable(tf.random_uniform(weight_shape4,\n",
    "                                   -init_range4,init_range4),name='w4')\n",
    "b = tf.Variable(tf.constant(.1,shape=[n_outputs_final]))\n",
    "\n",
    "\n",
    "# network - batch normalization in training, relu activations\n",
    "dot1 = tf.matmul(X,w1)\n",
    "batch_normed1 = self._batch_norm_wrapper(dot1,training)\n",
    "rel1 = tf.nn.relu(batch_normed1)\n",
    "\n",
    "dot2 = tf.matmul(rel1,w2)\n",
    "batch_normed2 = self._batch_norm_wrapper(dot2,training)\n",
    "rel2 = tf.nn.relu(batch_normed2)\n",
    "\n",
    "dot3 = tf.matmul(rel2,w3)\n",
    "batch_normed3 = self._batch_norm_wrapper(dot3,training)\n",
    "rel3 = tf.nn.relu(batch_normed3)\n",
    "\n",
    "# softmax layer\n",
    "logits = tf.matmul(rel3,w4)+b\n",
    "probs_x = tf.nn.softmax(logits)\n",
    "\n",
    "# cost:\n",
    "#    per pair\n",
    "rows_of_cost =             tf.nn.softmax_cross_entropy_with_logits(logits,Y,\n",
    "                                            name='rows_of_cost')\n",
    "#    average over all pairs\n",
    "cost = tf.reduce_mean(rows_of_cost,reduction_indices=None,\n",
    "                      keep_dims=False,name='cost')\n",
    "\n",
    "# gradients and training\n",
    "opt = tf.train.AdagradOptimizer(learning_rate=lr)\n",
    "train_op = opt.minimize(cost,global_step=glob_step,\n",
    "                        var_list=[w1,w2,w3,w4,b])\n",
    "\n",
    "# predictions and accuracy\n",
    "correct_prediction = tf.equal(tf.arg_max(probs_x,1),tf.arg_max(Y,1))\n",
    "accuracy = tf.reduce_mean(tf.cast(correct_prediction,tf.float32))\n",
    "\n",
    "#return (X,Y),cost,train_op,accuracy,probs_x,lr,tf.train.Saver()\n"
   ]
  },
  {
   "cell_type": "code",
   "execution_count": null,
   "metadata": {
    "collapsed": true
   },
   "outputs": [],
   "source": []
  },
  {
   "cell_type": "code",
   "execution_count": null,
   "metadata": {
    "collapsed": true
   },
   "outputs": [],
   "source": [
    "import tensorflow as tf\n",
    "import numpy as np\n",
    "import sys\n",
    "from rnnRecurrenceFcn import fLSTM\n",
    "\n",
    "log_dir = \"logs/\"\n",
    "\n",
    "tf.reset_default_graph()\n",
    "\n",
    "def data_gen(batch_size, seq_len):\n",
    "    x = np.array(np.random.normal(size=(batch_size, seq_len)), dtype=np.float32)\n",
    "    #x = np.ones((batch_size, seq_len), dtype=np.float32)\n",
    "    y = np.sum(x, axis=1)\n",
    "    x = x.reshape([batch_size, seq_len, 1])\n",
    "    y = y.reshape([batch_size, 1])\n",
    "    return x, y\n",
    "\n",
    "#replace with placeholders\n",
    "inputSize = 1\n",
    "hiddenSize = 32\n",
    "targetSize = 1\n",
    "mBatch = 100\n",
    "\n",
    "input_size = inputSize\n",
    "hidden_size = hiddenSize\n",
    "target_size = targetSize\n",
    "\n",
    "# Weights for output layers\n",
    "Wo = tf.Variable(tf.truncated_normal([hidden_size, target_size], mean=0, stddev=.01), name=\"Wo\")\n",
    "bo = tf.Variable(tf.truncated_normal([target_size], mean=0, stddev=.01), name=\"bo\")\n",
    "\n",
    "initHidden = tf.placeholder(tf.float32, shape = [None, 2*hidden_size])\n",
    "inputs = tf.placeholder(tf.float32, shape=[None, None, input_size], name='inputs')\n",
    "inputs_ = tf.transpose(inputs, perm=[1,0,2])\n",
    "\n",
    "y = tf.placeholder(tf.float32, shape=[None, target_size])\n",
    "\n",
    "initial_hidden = initHidden\n",
    "print(initial_hidden)\n",
    "#define recursion for scan function\n",
    "fRScan = fLSTM(inputSize, hiddenSize)\n",
    "\n",
    "#hidden state sequence\n",
    "all_hidden_states = tf.scan(fRScan, inputs_, initializer=initial_hidden, name=\"LSTMStates\")\n",
    "\n",
    "#extract last hidden state\n",
    "last_hidden_state = tf.reverse(all_hidden_states, [True, False, False])[0, :, :]\n",
    "lastH, lastC = tf.split(1, 2, last_hidden_state)\n",
    "#develop logit from last hidden state\n",
    "last_output = tf.matmul(lastH, Wo) + bo\n",
    "\n",
    "#loss definition for gradients\n",
    "loss = tf.reduce_mean(tf.square(y - last_output))\n",
    "\n",
    "#rms error for printing\n",
    "rms_error = tf.sqrt(loss)\n",
    "\n",
    "#training function\n",
    "train_step = tf.train.AdamOptimizer().minimize(loss)\n",
    "\n",
    "with tf.Session() as sess:\n",
    "    sess.run(tf.initialize_all_variables())\n",
    "\n",
    "    #summary_op = tf.merge_all_summaries()\n",
    "    writer = tf.train.SummaryWriter(log_dir, sess.graph)\n",
    "    #print(\"initial_hidden: %s\" % initial_hidden)\n",
    "    # initial value for hidden state\n",
    "    # Keep this value to start for zero for all subsequent iterations\n",
    "    # Set to lastHiddenState after each training step\n",
    "    iHid = np.zeros([mBatch, 2*hiddenSize], dtype=np.float32)\n",
    "    print(iHid.shape)\n",
    "\n",
    "    for epoch in range(4096):  # 120\n",
    "        X_train, y_train = data_gen(mBatch, 10)\n",
    "        X_test, y_test = data_gen(mBatch, 10)\n",
    "        ts, lhs = sess.run([train_step, last_hidden_state], {inputs: X_train, y: y_train, initHidden: iHid})\n",
    "        #iHid = lhs  #This line initializes each LSTM with the value at the end of last sequence of iterations\n",
    "        #writer.add_summary(summary_str, epoch)\n",
    "\n",
    "        Loss = str(sess.run(loss, {inputs: X_train, y: y_train, initHidden: iHid}))\n",
    "        Train_error = str(sess.run(rms_error, {inputs: X_train, y: y_train, initHidden: iHid}))\n",
    "        Test_error = str(sess.run(rms_error, {inputs: X_test, y: y_test, initHidden: iHid}))\n",
    "\n",
    "        sys.stdout.flush()\n",
    "        print(\"\\rIteration: %s Loss: %s Train Error: %s Test Error: %s\" %\n",
    "              (epoch, Loss, Train_error, Test_error)),\n",
    "    sys.stdout.flush()"
   ]
  }
 ],
 "metadata": {
  "kernelspec": {
   "display_name": "Python 2",
   "language": "python",
   "name": "python2"
  },
  "language_info": {
   "codemirror_mode": {
    "name": "ipython",
    "version": 2
   },
   "file_extension": ".py",
   "mimetype": "text/x-python",
   "name": "python",
   "nbconvert_exporter": "python",
   "pygments_lexer": "ipython2",
   "version": "2.7.12"
  }
 },
 "nbformat": 4,
 "nbformat_minor": 1
}
