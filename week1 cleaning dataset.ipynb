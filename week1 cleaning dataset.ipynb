{
 "cells": [
  {
   "cell_type": "markdown",
   "metadata": {},
   "source": [
    "# cleaning dataset"
   ]
  },
  {
   "cell_type": "code",
   "execution_count": null,
   "metadata": {
    "collapsed": true
   },
   "outputs": [],
   "source": []
  },
  {
   "cell_type": "code",
   "execution_count": 4,
   "metadata": {
    "collapsed": true
   },
   "outputs": [],
   "source": [
    "from __future__ import print_function\n",
    "import pandas as pd"
   ]
  },
  {
   "cell_type": "code",
   "execution_count": 5,
   "metadata": {
    "collapsed": false
   },
   "outputs": [
    {
     "name": "stdout",
     "output_type": "stream",
     "text": [
      "18\n",
      "5  misclassified as major\n"
     ]
    }
   ],
   "source": [
    "df = pd.read_csv('/Users/Rutherford/Desktop/dataset.csv',header=None,dtype=str)\n",
    "df.columns=['error','t1','t2']\n",
    "print(sum(df['t1']==df['t2']))\n",
    "print(sum(df[df['t1']==df['t2']]['error']=='2'),' misclassified as major')"
   ]
  },
  {
   "cell_type": "markdown",
   "metadata": {},
   "source": [
    "### fix empty strings that are considered nan (floats)"
   ]
  },
  {
   "cell_type": "code",
   "execution_count": 6,
   "metadata": {
    "collapsed": false
   },
   "outputs": [
    {
     "name": "stdout",
     "output_type": "stream",
     "text": [
      "20\n",
      "5  misclassified as major\n"
     ]
    }
   ],
   "source": [
    "# fix nan's\n",
    "df.loc[df['t1'].isnull(),'t1']=''\n",
    "df.loc[df['t2'].isnull(),'t2']=''\n",
    "print(sum(df['t1']==df['t2']))\n",
    "print(sum(df[df['t1']==df['t2']]['error']=='2'),' misclassified as major')"
   ]
  },
  {
   "cell_type": "markdown",
   "metadata": {},
   "source": [
    "### underscores"
   ]
  },
  {
   "cell_type": "code",
   "execution_count": 7,
   "metadata": {
    "collapsed": false
   },
   "outputs": [
    {
     "name": "stdout",
     "output_type": "stream",
     "text": [
      "93\n",
      "28  misclassified as major\n"
     ]
    }
   ],
   "source": [
    "df.replace('_{2,}\\s?','',regex=True,inplace=True)\n",
    "print(sum(df['t1']==df['t2']))\n",
    "print(sum(df[df['t1']==df['t2']]['error']=='2'),' misclassified as major')"
   ]
  },
  {
   "cell_type": "markdown",
   "metadata": {},
   "source": [
    "### fillers"
   ]
  },
  {
   "cell_type": "code",
   "execution_count": 8,
   "metadata": {
    "collapsed": true
   },
   "outputs": [],
   "source": [
    "fillers = [\n",
    "        r\"\\bright\\b\\s?\",\n",
    "        r\"\\byou know\\b\\s?\",\n",
    "        r\"\\bi think\\b\\s?\",\n",
    "        r\"\\bbut i think\\b\\s?\",\n",
    "        r\"\\bso to speak\\b\\s?\",\n",
    "        r\"\\blike\\b\\s?\",\n",
    "        r\"\\bi mean\\b\\s?\",\n",
    "        r\"\\bso\\b\\s?\",\n",
    "        r\"\\bactually\\b\\s?\",\n",
    "        r\"\\bbasically\\b\\s?\",\n",
    "        r\"\\bokay\\b\\s?\",\n",
    "        r\"\\byeah\\b\\s?\",\n",
    "        r\"\\byeah okay\\b\\s?\",\n",
    "        r\"\\byes\\b\\s?\",\n",
    "        r\"\\bthe\\b\\s?\",\n",
    "        r\"\\band\\b\\s?\"]"
   ]
  },
  {
   "cell_type": "code",
   "execution_count": 1634,
   "metadata": {
    "collapsed": false
   },
   "outputs": [],
   "source": [
    "#c1 = ['yeah yeah i know','this here is right','yup','righteous','right']\n",
    "#c2 = ['yeah i know','this here is alright','yep','right-on',\"that's\"]\n",
    "#testdf = pd.DataFrame(data={'c1':c1,'c2':c2})"
   ]
  },
  {
   "cell_type": "code",
   "execution_count": 1635,
   "metadata": {
    "collapsed": false
   },
   "outputs": [],
   "source": [
    "#testdf['c1'].values"
   ]
  },
  {
   "cell_type": "code",
   "execution_count": 1636,
   "metadata": {
    "collapsed": false
   },
   "outputs": [],
   "source": [
    "#testdf['c1'].replace(fillers,'',regex=True).values"
   ]
  },
  {
   "cell_type": "code",
   "execution_count": 9,
   "metadata": {
    "collapsed": false
   },
   "outputs": [
    {
     "name": "stdout",
     "output_type": "stream",
     "text": [
      "3883\n",
      "324  misclassified as major\n"
     ]
    }
   ],
   "source": [
    "df.replace(fillers,'',regex=True,inplace=True)\n",
    "print(sum(df['t1']==df['t2']))\n",
    "print(sum(df[df['t1']==df['t2']]['error']=='2'),' misclassified as major')"
   ]
  },
  {
   "cell_type": "markdown",
   "metadata": {},
   "source": [
    "### metas"
   ]
  },
  {
   "cell_type": "code",
   "execution_count": 10,
   "metadata": {
    "collapsed": true
   },
   "outputs": [],
   "source": [
    "metas = [\n",
    "    r\"\\bchuckle\\b\\s?\",\n",
    "    r\"\\blaughter\\b\\s?\",\n",
    "    r\"\\bpause\\b\\s?\",\n",
    "    r\"\\bnoise\\b\\s?\",\n",
    "    r\"\\bmusic\\b\\s?\",\n",
    "    r\"\\bapplause\\b\\s?\",\n",
    "    r\"\\bvocalization\\b\\s?\",\n",
    "    r\"\\bvideo playback\\b\\s?\",\n",
    "    r\"\\bautomated voice\\b\\s?\",\n",
    "    r\"\\bforeign language\\b\\s?\",\n",
    "    r\"\\boverlapping conversation\\b\\s?\",\n",
    "    r\"\\bbackground conversation\\b\\s?\",\n",
    "    r\"\\bstart-paren\\b\\s?\",\n",
    "    r\"\\bend-paren\\b\\s?\"]"
   ]
  },
  {
   "cell_type": "code",
   "execution_count": 11,
   "metadata": {
    "collapsed": false
   },
   "outputs": [
    {
     "name": "stdout",
     "output_type": "stream",
     "text": [
      "4139\n",
      "334  misclassified as major\n"
     ]
    }
   ],
   "source": [
    "df.replace(metas,'',regex=True,inplace=True)\n",
    "print(sum(df['t1']==df['t2']))\n",
    "print(sum(df[df['t1']==df['t2']]['error']=='2'),' misclassified as major')"
   ]
  },
  {
   "cell_type": "markdown",
   "metadata": {},
   "source": [
    "### timestamp"
   ]
  },
  {
   "cell_type": "code",
   "execution_count": 12,
   "metadata": {
    "collapsed": false,
    "scrolled": true
   },
   "outputs": [
    {
     "name": "stdout",
     "output_type": "stream",
     "text": [
      "9319\n",
      "340  misclassified as major\n"
     ]
    }
   ],
   "source": [
    "df.replace(r\"\\b\\d{6}\\b\\s?\",'',regex=True,inplace=True)\n",
    "print(sum(df['t1']==df['t2']))\n",
    "print(sum(df[df['t1']==df['t2']]['error']=='2'),' misclassified as major')"
   ]
  },
  {
   "cell_type": "markdown",
   "metadata": {},
   "source": [
    "### speakers"
   ]
  },
  {
   "cell_type": "code",
   "execution_count": 13,
   "metadata": {
    "collapsed": false
   },
   "outputs": [
    {
     "name": "stdout",
     "output_type": "stream",
     "text": [
      "12195\n",
      "579  misclassified as major\n"
     ]
    }
   ],
   "source": [
    "df.replace(r\"\\bs\\d{0,2}\\b\\s?\",'',regex=True,inplace=True)\n",
    "print(sum(df['t1']==df['t2']))\n",
    "print(sum(df[df['t1']==df['t2']]['error']=='2'),' misclassified as major')"
   ]
  },
  {
   "cell_type": "markdown",
   "metadata": {},
   "source": [
    "### trailing whitespaces"
   ]
  },
  {
   "cell_type": "code",
   "execution_count": 14,
   "metadata": {
    "collapsed": false
   },
   "outputs": [
    {
     "name": "stdout",
     "output_type": "stream",
     "text": [
      "19216\n",
      "1221  misclassified as major\n"
     ]
    }
   ],
   "source": [
    "df.replace(r\" $\",'',regex=True,inplace=True)\n",
    "print(sum(df['t1']==df['t2']))\n",
    "print(sum(df[df['t1']==df['t2']]['error']=='2'),' misclassified as major')"
   ]
  },
  {
   "cell_type": "markdown",
   "metadata": {},
   "source": [
    "### reclassifying"
   ]
  },
  {
   "cell_type": "code",
   "execution_count": 15,
   "metadata": {
    "collapsed": true
   },
   "outputs": [],
   "source": [
    "misclassified_indices = df.loc[(df['t1']==df['t2']) & (df['error']=='2')].index.tolist()\n",
    "# df.loc[misclassified_indices]"
   ]
  },
  {
   "cell_type": "code",
   "execution_count": 16,
   "metadata": {
    "collapsed": false
   },
   "outputs": [
    {
     "name": "stdout",
     "output_type": "stream",
     "text": [
      "56128  total minor errors before\n",
      "57349  total minor errors after\n"
     ]
    }
   ],
   "source": [
    "# reclassify bad 2's as 1's\n",
    "print(sum(df['error']=='1'),' total minor errors before')\n",
    "df.loc[misclassified_indices,'error']='1'\n",
    "print(sum(df['error']=='1'),' total minor errors after')"
   ]
  },
  {
   "cell_type": "markdown",
   "metadata": {},
   "source": [
    "### manually extracted indices\n",
    "\n",
    "file saved on desktop as indices.txt"
   ]
  },
  {
   "cell_type": "code",
   "execution_count": 1760,
   "metadata": {
    "collapsed": false
   },
   "outputs": [
    {
     "data": {
      "text/plain": [
       "436"
      ]
     },
     "execution_count": 1760,
     "metadata": {},
     "output_type": "execute_result"
    }
   ],
   "source": [
    "sum(df.loc[indices,'error']=='2')"
   ]
  },
  {
   "cell_type": "code",
   "execution_count": 1761,
   "metadata": {
    "collapsed": false
   },
   "outputs": [
    {
     "name": "stdout",
     "output_type": "stream",
     "text": [
      "65092  total minor errors after\n"
     ]
    }
   ],
   "source": [
    "# replace manually checked observations with 1's\n",
    "df.loc[indices,'error']='1'\n",
    "print(sum(df['error']=='1'),' total minor errors after')"
   ]
  },
  {
   "cell_type": "code",
   "execution_count": 17,
   "metadata": {
    "collapsed": false
   },
   "outputs": [],
   "source": [
    "new_error_col = df['error']"
   ]
  },
  {
   "cell_type": "code",
   "execution_count": 19,
   "metadata": {
    "collapsed": false
   },
   "outputs": [],
   "source": [
    "df = pd.read_csv('/Users/Rutherford/Desktop/dataset.csv',header=None,dtype=str)\n",
    "df.columns=['error','t1','t2']"
   ]
  },
  {
   "cell_type": "code",
   "execution_count": 20,
   "metadata": {
    "collapsed": true
   },
   "outputs": [],
   "source": [
    "df['error']=new_error_col"
   ]
  },
  {
   "cell_type": "code",
   "execution_count": 21,
   "metadata": {
    "collapsed": true
   },
   "outputs": [],
   "source": [
    "df.to_csv('/Users/Rutherford/Desktop/cleaned_new.csv',header=False,index=False)"
   ]
  },
  {
   "cell_type": "code",
   "execution_count": null,
   "metadata": {
    "collapsed": true
   },
   "outputs": [],
   "source": []
  },
  {
   "cell_type": "code",
   "execution_count": null,
   "metadata": {
    "collapsed": true
   },
   "outputs": [],
   "source": []
  },
  {
   "cell_type": "markdown",
   "metadata": {},
   "source": [
    "### this was to get 'indices'\n",
    "#### quite a pain"
   ]
  },
  {
   "cell_type": "code",
   "execution_count": 696,
   "metadata": {
    "collapsed": true
   },
   "outputs": [],
   "source": [
    "from fuzzywuzzy import fuzz"
   ]
  },
  {
   "cell_type": "code",
   "execution_count": 718,
   "metadata": {
    "collapsed": true
   },
   "outputs": [],
   "source": [
    "def close_enough(str1,str2):\n",
    "    return fuzz.ratio(str1,str2)>=90"
   ]
  },
  {
   "cell_type": "code",
   "execution_count": 848,
   "metadata": {
    "collapsed": false
   },
   "outputs": [],
   "source": [
    "potential = df[map(close_enough,df['t1'],df['t2'])]['error']=='2'"
   ]
  },
  {
   "cell_type": "code",
   "execution_count": 850,
   "metadata": {
    "collapsed": false
   },
   "outputs": [],
   "source": [
    "potential = potential.index.values"
   ]
  },
  {
   "cell_type": "code",
   "execution_count": 852,
   "metadata": {
    "collapsed": false
   },
   "outputs": [
    {
     "name": "stderr",
     "output_type": "stream",
     "text": [
      "/Users/Rutherford/anaconda2/envs/tensorflow/lib/python2.7/site-packages/ipykernel/__main__.py:1: UserWarning: Boolean Series key will be reindexed to match DataFrame index.\n",
      "  if __name__ == '__main__':\n"
     ]
    }
   ],
   "source": [
    "close_calls = df.ix[potential][df['error']=='2']"
   ]
  },
  {
   "cell_type": "code",
   "execution_count": 1266,
   "metadata": {
    "collapsed": true
   },
   "outputs": [],
   "source": [
    "\"\"\"test_row_iterator = close_calls.iterrows()\n",
    "_, test_last = test_row_iterator.next()  # take first item from row_iterator\n",
    "indices = [227]\n",
    "def tester_func():\n",
    "    for i, row in test_row_iterator:\n",
    "        sys.stdout.flush()\n",
    "        print(),\n",
    "        print(row['t1'],'////',row['t2']),\n",
    "\n",
    "        test_last = row\n",
    "        choice = input('0 for minor, space for major')\n",
    "        if choice == 0:\n",
    "            indices.append(i)\n",
    "            continue\n",
    "        elif choice == 1:\n",
    "            continue\n",
    "        \"\"\""
   ]
  },
  {
   "cell_type": "code",
   "execution_count": null,
   "metadata": {
    "collapsed": true
   },
   "outputs": [],
   "source": []
  }
 ],
 "metadata": {
  "kernelspec": {
   "display_name": "Python 2",
   "language": "python",
   "name": "python2"
  },
  "language_info": {
   "codemirror_mode": {
    "name": "ipython",
    "version": 2
   },
   "file_extension": ".py",
   "mimetype": "text/x-python",
   "name": "python",
   "nbconvert_exporter": "python",
   "pygments_lexer": "ipython2",
   "version": "2.7.12"
  }
 },
 "nbformat": 4,
 "nbformat_minor": 1
}
